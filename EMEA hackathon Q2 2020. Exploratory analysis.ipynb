{
 "cells": [
  {
   "cell_type": "markdown",
   "metadata": {},
   "source": [
    "# <center>EMEA hackathon Q2 2020. Exploratory analysis</center>\n",
    "### Description\n",
    "Use of universal pixels are becoming more and more popular to improve efficiency and drive revenue. Universal pixel or tag is a code snippet which can be placed across a website and track users’ actions. This information collected from tracking can be used for tracking conversions or building audiences.\n",
    "\n",
    "The goal of 2020 Q2 EMEA hackathon is to familiarise yourself with the data from universal pixel and make a prediction if a user is in a high value segment. The data comes from one of our clients. A high value segment is a group of users that are highly likely to take a specific action that is valuable to the client such as purchasing a product. Between these users there are commonalities that you could investigate to make your prediction.\n",
    "\n",
    "### Data structure\n",
    "| Field | Description |\n",
    "|:-------|:-------------|\n",
    "| **date_time** | The time and date of the universal pixel fire |\n",
    "| **user_id_64** | User id |\n",
    "| **url** |\tThe entire URL of the page the pixel is on |\n",
    "| **http_referer** | The entire URL of the referrer to the page the pixel is on |\n",
    "| **event**\t| The event associated with the pixel fire |\n",
    "| **item_ids**\t| Strings passed in on the item_id parameter within your pixel |\n",
    "| **item_types** |\tStrings passed in on the item_type parameter within your pixel |\n",
    "| **item_names** | Strings passed in on the item_name parameter within your pixel |\n",
    "| **segment_id** | The list of IDs for the segments the user was added to as a result of the universal pixel firing |\n",
    "| **segment_name** | Name of a segment |\n",
    "| **conversion_pixel_ids** | The list of IDs for the conversion events triggered by the user as a result of the universal pixel firing |\n",
    "| **partition_time_millis** | The hourly partition any record row falls into |\n",
    "| **event_value** |\tThe nominal value of the event |\n",
    "\n",
    "### Evaluation metric and results\n",
    "The competition metric was **F1 score**\n",
    "\n",
    "Top 3 submission results:\n",
    "\n",
    "    1)  0.615\n",
    "    2)  0.607\n",
    "    3)  0.598\n",
    "    \n",
    "The goal of these notebooks is to explore the dataset and to see where the score could be improved."
   ]
  },
  {
   "cell_type": "code",
   "execution_count": 1,
   "metadata": {},
   "outputs": [],
   "source": [
    "from IPython.core.pylabtools import figsize\n",
    "import matplotlib.pyplot as plt\n",
    "import seaborn as sns\n",
    "\n",
    "import pandas as pd\n",
    "import numpy as np\n",
    "import arrow\n",
    "\n",
    "from tqdm import tqdm\n",
    "\n",
    "%matplotlib inline"
   ]
  },
  {
   "cell_type": "markdown",
   "metadata": {},
   "source": [
    "### Datasets"
   ]
  },
  {
   "cell_type": "code",
   "execution_count": 2,
   "metadata": {},
   "outputs": [
    {
     "data": {
      "text/plain": [
       "(805098, 16)"
      ]
     },
     "metadata": {},
     "output_type": "display_data"
    },
    {
     "data": {
      "text/plain": [
       "(198979, 16)"
      ]
     },
     "metadata": {},
     "output_type": "display_data"
    },
    {
     "data": {
      "text/plain": [
       "(10280, 2)"
      ]
     },
     "metadata": {},
     "output_type": "display_data"
    }
   ],
   "source": [
    "train = pd.read_csv('Train.csv', parse_dates=['date_time']).assign(test = 0)\n",
    "display(train.shape)\n",
    "\n",
    "test = pd.read_csv('Test.csv', parse_dates=['date_time']).assign(test = 1, target=-1)\n",
    "display(test.shape)\n",
    "\n",
    "test_labels = pd.read_csv('GroundTruth/Perfect Preds.csv')\n",
    "display(test_labels.shape)"
   ]
  },
  {
   "cell_type": "code",
   "execution_count": 3,
   "metadata": {},
   "outputs": [
    {
     "data": {
      "text/plain": [
       "(1004077, 16)"
      ]
     },
     "metadata": {},
     "output_type": "display_data"
    },
    {
     "data": {
      "text/html": [
       "<div>\n",
       "<style scoped>\n",
       "    .dataframe tbody tr th:only-of-type {\n",
       "        vertical-align: middle;\n",
       "    }\n",
       "\n",
       "    .dataframe tbody tr th {\n",
       "        vertical-align: top;\n",
       "    }\n",
       "\n",
       "    .dataframe thead th {\n",
       "        text-align: right;\n",
       "    }\n",
       "</style>\n",
       "<table border=\"1\" class=\"dataframe\">\n",
       "  <thead>\n",
       "    <tr style=\"text-align: right;\">\n",
       "      <th></th>\n",
       "      <th>user_id_64</th>\n",
       "      <th>date_time</th>\n",
       "      <th>event</th>\n",
       "      <th>event_value</th>\n",
       "      <th>http_referer</th>\n",
       "      <th>item_ids</th>\n",
       "      <th>item_names</th>\n",
       "      <th>item_types</th>\n",
       "      <th>partition_time_millis</th>\n",
       "      <th>pixel_uuid</th>\n",
       "      <th>segment_ids</th>\n",
       "      <th>segment_name</th>\n",
       "      <th>url</th>\n",
       "      <th>conversion_pixel_ids</th>\n",
       "      <th>target</th>\n",
       "      <th>test</th>\n",
       "    </tr>\n",
       "  </thead>\n",
       "  <tbody>\n",
       "    <tr>\n",
       "      <td>0</td>\n",
       "      <td>'1'</td>\n",
       "      <td>2020-06-02 20:56:35</td>\n",
       "      <td>ItemView</td>\n",
       "      <td>0</td>\n",
       "      <td>https://www.ford.co.uk/cars/mustang-mach-e?scm...</td>\n",
       "      <td>['ford mach-e:2021']</td>\n",
       "      <td>['undefined:bs-sa:undefined:undefined']</td>\n",
       "      <td>['brand:build:intro']</td>\n",
       "      <td>'1581019200000'</td>\n",
       "      <td>d4d09503-c83d-4e72-ac4b-5bb306b9525d</td>\n",
       "      <td>0</td>\n",
       "      <td>Unknown/No Segment</td>\n",
       "      <td>https://www.ford.co.uk/shop/price-and-locate/p...</td>\n",
       "      <td>[]</td>\n",
       "      <td>0</td>\n",
       "      <td>0</td>\n",
       "    </tr>\n",
       "    <tr>\n",
       "      <td>1</td>\n",
       "      <td>'1'</td>\n",
       "      <td>2020-06-02 20:57:38</td>\n",
       "      <td>ItemView</td>\n",
       "      <td>0</td>\n",
       "      <td>https://www.ford.co.uk/cars/mustang-mach-e?scm...</td>\n",
       "      <td>['ford mach-e:2021']</td>\n",
       "      <td>['undefined:bs-sa:undefined:undefined']</td>\n",
       "      <td>['brand:build:model']</td>\n",
       "      <td>'1581019200000'</td>\n",
       "      <td>d4d09503-c83d-4e72-ac4b-5bb306b9525d</td>\n",
       "      <td>0</td>\n",
       "      <td>Unknown/No Segment</td>\n",
       "      <td>https://www.ford.co.uk/shop/price-and-locate/p...</td>\n",
       "      <td>[]</td>\n",
       "      <td>0</td>\n",
       "      <td>0</td>\n",
       "    </tr>\n",
       "    <tr>\n",
       "      <td>2</td>\n",
       "      <td>'1'</td>\n",
       "      <td>2020-06-02 20:58:19</td>\n",
       "      <td>ItemView</td>\n",
       "      <td>0</td>\n",
       "      <td>https://www.ford.co.uk/cars/mustang-mach-e?scm...</td>\n",
       "      <td>['ford mach-e:2021']</td>\n",
       "      <td>['ford mach-e:awd:bs-sa:undefined:undefined']</td>\n",
       "      <td>['brand:build:battery']</td>\n",
       "      <td>'1581019200000'</td>\n",
       "      <td>d4d09503-c83d-4e72-ac4b-5bb306b9525d</td>\n",
       "      <td>0</td>\n",
       "      <td>Unknown/No Segment</td>\n",
       "      <td>https://www.ford.co.uk/shop/price-and-locate/p...</td>\n",
       "      <td>[]</td>\n",
       "      <td>0</td>\n",
       "      <td>0</td>\n",
       "    </tr>\n",
       "  </tbody>\n",
       "</table>\n",
       "</div>"
      ],
      "text/plain": [
       "  user_id_64           date_time     event  event_value  \\\n",
       "0        '1' 2020-06-02 20:56:35  ItemView            0   \n",
       "1        '1' 2020-06-02 20:57:38  ItemView            0   \n",
       "2        '1' 2020-06-02 20:58:19  ItemView            0   \n",
       "\n",
       "                                        http_referer              item_ids  \\\n",
       "0  https://www.ford.co.uk/cars/mustang-mach-e?scm...  ['ford mach-e:2021']   \n",
       "1  https://www.ford.co.uk/cars/mustang-mach-e?scm...  ['ford mach-e:2021']   \n",
       "2  https://www.ford.co.uk/cars/mustang-mach-e?scm...  ['ford mach-e:2021']   \n",
       "\n",
       "                                      item_names               item_types  \\\n",
       "0        ['undefined:bs-sa:undefined:undefined']    ['brand:build:intro']   \n",
       "1        ['undefined:bs-sa:undefined:undefined']    ['brand:build:model']   \n",
       "2  ['ford mach-e:awd:bs-sa:undefined:undefined']  ['brand:build:battery']   \n",
       "\n",
       "  partition_time_millis                            pixel_uuid  segment_ids  \\\n",
       "0       '1581019200000'  d4d09503-c83d-4e72-ac4b-5bb306b9525d            0   \n",
       "1       '1581019200000'  d4d09503-c83d-4e72-ac4b-5bb306b9525d            0   \n",
       "2       '1581019200000'  d4d09503-c83d-4e72-ac4b-5bb306b9525d            0   \n",
       "\n",
       "         segment_name                                                url  \\\n",
       "0  Unknown/No Segment  https://www.ford.co.uk/shop/price-and-locate/p...   \n",
       "1  Unknown/No Segment  https://www.ford.co.uk/shop/price-and-locate/p...   \n",
       "2  Unknown/No Segment  https://www.ford.co.uk/shop/price-and-locate/p...   \n",
       "\n",
       "  conversion_pixel_ids  target  test  \n",
       "0                   []       0     0  \n",
       "1                   []       0     0  \n",
       "2                   []       0     0  "
      ]
     },
     "execution_count": 3,
     "metadata": {},
     "output_type": "execute_result"
    }
   ],
   "source": [
    "### Final dataset to work with\n",
    "\n",
    "df = pd.concat([train, test], axis=0, sort=False)\n",
    "display(df.shape)\n",
    "df.head(3)"
   ]
  },
  {
   "cell_type": "markdown",
   "metadata": {},
   "source": [
    "### Data sample"
   ]
  },
  {
   "cell_type": "code",
   "execution_count": 4,
   "metadata": {},
   "outputs": [
    {
     "data": {
      "text/html": [
       "<div>\n",
       "<style scoped>\n",
       "    .dataframe tbody tr th:only-of-type {\n",
       "        vertical-align: middle;\n",
       "    }\n",
       "\n",
       "    .dataframe tbody tr th {\n",
       "        vertical-align: top;\n",
       "    }\n",
       "\n",
       "    .dataframe thead th {\n",
       "        text-align: right;\n",
       "    }\n",
       "</style>\n",
       "<table border=\"1\" class=\"dataframe\">\n",
       "  <thead>\n",
       "    <tr style=\"text-align: right;\">\n",
       "      <th></th>\n",
       "      <th>user_id_64</th>\n",
       "      <th>date_time</th>\n",
       "      <th>event</th>\n",
       "      <th>event_value</th>\n",
       "      <th>http_referer</th>\n",
       "      <th>item_ids</th>\n",
       "      <th>item_names</th>\n",
       "      <th>item_types</th>\n",
       "      <th>partition_time_millis</th>\n",
       "      <th>pixel_uuid</th>\n",
       "      <th>segment_ids</th>\n",
       "      <th>segment_name</th>\n",
       "      <th>url</th>\n",
       "      <th>conversion_pixel_ids</th>\n",
       "      <th>target</th>\n",
       "      <th>test</th>\n",
       "    </tr>\n",
       "  </thead>\n",
       "  <tbody>\n",
       "    <tr>\n",
       "      <td>260</td>\n",
       "      <td>'10014'</td>\n",
       "      <td>2020-02-15 10:49:00</td>\n",
       "      <td>PageView</td>\n",
       "      <td>0</td>\n",
       "      <td>https://www.google.com/</td>\n",
       "      <td>['undefined:undefined']</td>\n",
       "      <td>['undefined:undefined:undefined:undefined']</td>\n",
       "      <td>['brand:home']</td>\n",
       "      <td>'1581760800000'</td>\n",
       "      <td>d4d09503-c83d-4e72-ac4b-5bb306b9525d</td>\n",
       "      <td>20526793</td>\n",
       "      <td>UK_Homepage_AllNameplates</td>\n",
       "      <td>https://www.ford.co.uk?searchid=ppc:Search_GB%...</td>\n",
       "      <td>[1207811]</td>\n",
       "      <td>0</td>\n",
       "      <td>0</td>\n",
       "    </tr>\n",
       "    <tr>\n",
       "      <td>261</td>\n",
       "      <td>'10014'</td>\n",
       "      <td>2020-02-15 10:49:10</td>\n",
       "      <td>ItemView</td>\n",
       "      <td>0</td>\n",
       "      <td>https://www.google.com/</td>\n",
       "      <td>[':']</td>\n",
       "      <td>[':undefined:undefined:undefined']</td>\n",
       "      <td>['brand:test drive:select vehicle']</td>\n",
       "      <td>'1581760800000'</td>\n",
       "      <td>d4d09503-c83d-4e72-ac4b-5bb306b9525d</td>\n",
       "      <td>19803716</td>\n",
       "      <td>UK_Shop_Request-test-drive_all</td>\n",
       "      <td>https://www.ford.co.uk?searchid=ppc:Search_GB%...</td>\n",
       "      <td>[1187716]</td>\n",
       "      <td>1</td>\n",
       "      <td>0</td>\n",
       "    </tr>\n",
       "  </tbody>\n",
       "</table>\n",
       "</div>"
      ],
      "text/plain": [
       "    user_id_64           date_time     event  event_value  \\\n",
       "260    '10014' 2020-02-15 10:49:00  PageView            0   \n",
       "261    '10014' 2020-02-15 10:49:10  ItemView            0   \n",
       "\n",
       "                http_referer                 item_ids  \\\n",
       "260  https://www.google.com/  ['undefined:undefined']   \n",
       "261  https://www.google.com/                    [':']   \n",
       "\n",
       "                                      item_names  \\\n",
       "260  ['undefined:undefined:undefined:undefined']   \n",
       "261           [':undefined:undefined:undefined']   \n",
       "\n",
       "                              item_types partition_time_millis  \\\n",
       "260                       ['brand:home']       '1581760800000'   \n",
       "261  ['brand:test drive:select vehicle']       '1581760800000'   \n",
       "\n",
       "                               pixel_uuid  segment_ids  \\\n",
       "260  d4d09503-c83d-4e72-ac4b-5bb306b9525d     20526793   \n",
       "261  d4d09503-c83d-4e72-ac4b-5bb306b9525d     19803716   \n",
       "\n",
       "                       segment_name  \\\n",
       "260       UK_Homepage_AllNameplates   \n",
       "261  UK_Shop_Request-test-drive_all   \n",
       "\n",
       "                                                   url conversion_pixel_ids  \\\n",
       "260  https://www.ford.co.uk?searchid=ppc:Search_GB%...            [1207811]   \n",
       "261  https://www.ford.co.uk?searchid=ppc:Search_GB%...            [1187716]   \n",
       "\n",
       "     target  test  \n",
       "260       0     0  \n",
       "261       1     0  "
      ]
     },
     "execution_count": 4,
     "metadata": {},
     "output_type": "execute_result"
    }
   ],
   "source": [
    "# Each row in the dataset corresponds to a page visited,\n",
    "# so, one user can visit multiple pages.\n",
    "# Only pages with desired behavior have target == 1\n",
    "\n",
    "# For example, here the target was a test drive request\n",
    "df.loc[df.user_id_64 == df[df.target==1].user_id_64.unique()[0], :]"
   ]
  },
  {
   "cell_type": "code",
   "execution_count": 5,
   "metadata": {},
   "outputs": [
    {
     "data": {
      "text/plain": [
       "0    36965\n",
       "1     4155\n",
       "Name: target, dtype: int64"
      ]
     },
     "execution_count": 5,
     "metadata": {},
     "output_type": "execute_result"
    }
   ],
   "source": [
    "# Target distribution in the train dataset (number of unique visitors)\n",
    "\n",
    "(df[df.test==0]\n",
    " .groupby('user_id_64')\n",
    " .agg({'target':'max'})\n",
    ").target.value_counts()"
   ]
  },
  {
   "cell_type": "markdown",
   "metadata": {},
   "source": [
    "### date_time column"
   ]
  },
  {
   "cell_type": "code",
   "execution_count": 6,
   "metadata": {},
   "outputs": [
    {
     "name": "stdout",
     "output_type": "stream",
     "text": [
      "Date range in train: [Timestamp('2020-02-13 00:00:02'), Timestamp('2020-12-02 23:59:59')]\n",
      "Date range in test: [Timestamp('2020-02-13 00:00:32'), Timestamp('2020-12-02 23:56:43')]\n"
     ]
    }
   ],
   "source": [
    "# Date range\n",
    "\n",
    "print('Date range in train:', [df[df.test==0].date_time.min(), df[df.test==0].date_time.max()])\n",
    "print('Date range in test:', [df[df.test==1].date_time.min(), df[df.test==1].date_time.max()])"
   ]
  },
  {
   "cell_type": "code",
   "execution_count": 7,
   "metadata": {},
   "outputs": [
    {
     "data": {
      "text/plain": [
       "<matplotlib.axes._subplots.AxesSubplot at 0x7f9a2027b890>"
      ]
     },
     "execution_count": 7,
     "metadata": {},
     "output_type": "execute_result"
    },
    {
     "data": {
      "image/png": "[encoded data removed]",
      "text/plain": [
       "<Figure size 1080x360 with 2 Axes>"
      ]
     },
     "metadata": {
      "needs_background": "light"
     },
     "output_type": "display_data"
    }
   ],
   "source": [
    "# date_time data looks artificial because it includes dates from the future (hackathon was held in May 2020).\n",
    "# Let's make a look at dates of first visit\n",
    "\n",
    "df_temp = (df\n",
    "             .groupby('user_id_64', as_index=False)\n",
    "             .agg({'date_time':min, 'target':max, 'test':max})\n",
    "             .assign(month = lambda x: x.date_time.apply(lambda y: y.month),\n",
    "                     day = lambda x: x.date_time.apply(lambda y: y.day),\n",
    "                     hour = lambda x: x.date_time.apply(lambda y: y.hour))\n",
    ")\n",
    "\n",
    "figsize(15, 5)\n",
    "sns.heatmap(pd.pivot_table(df_temp[df_temp.test==0],\n",
    "                           index='day',\n",
    "                           columns='month',\n",
    "                           values='target',\n",
    "                           aggfunc=np.mean,\n",
    "                           fill_value=-1),\n",
    "            annot=True)"
   ]
  },
  {
   "cell_type": "code",
   "execution_count": 8,
   "metadata": {},
   "outputs": [
    {
     "name": "stdout",
     "output_type": "stream",
     "text": [
      "Train dataset. Number of visitors, %\n",
      "month    2     4    5     6     7     8     9    10    11    12\n",
      "day                                                            \n",
      "2      0.00  9.23  7.3  6.98  6.35  6.03  6.22  6.1  5.79  5.73\n",
      "13     9.55  0.00  0.0  0.00  0.00  0.00  0.00  0.0  0.00  0.00\n",
      "14     7.75  0.00  0.0  0.00  0.00  0.00  0.00  0.0  0.00  0.00\n",
      "15     8.25  0.00  0.0  0.00  0.00  0.00  0.00  0.0  0.00  0.00\n",
      "16     7.30  0.00  0.0  0.00  0.00  0.00  0.00  0.0  0.00  0.00\n",
      "17     7.41  0.00  0.0  0.00  0.00  0.00  0.00  0.0  0.00  0.00\n",
      "\n",
      "Test dataset. Number of visitors, %\n",
      "month    2     4     5     6     7     8     9     10    11    12\n",
      "day                                                              \n",
      "2      0.00  9.75  7.32  6.97  6.28  6.22  6.36  5.92  5.87  5.47\n",
      "13     9.63  0.00  0.00  0.00  0.00  0.00  0.00  0.00  0.00  0.00\n",
      "14     7.59  0.00  0.00  0.00  0.00  0.00  0.00  0.00  0.00  0.00\n",
      "15     7.85  0.00  0.00  0.00  0.00  0.00  0.00  0.00  0.00  0.00\n",
      "16     7.52  0.00  0.00  0.00  0.00  0.00  0.00  0.00  0.00  0.00\n",
      "17     7.25  0.00  0.00  0.00  0.00  0.00  0.00  0.00  0.00  0.00\n"
     ]
    }
   ],
   "source": [
    "# Is there are any differences between train and test?\n",
    "\n",
    "print('Train dataset. Number of visitors, %')\n",
    "print(pd.pivot_table(df_temp[df_temp.test==0],\n",
    "                             index='day',\n",
    "                             columns='month',\n",
    "                             values='target',\n",
    "                             aggfunc=lambda x: round(100 * len(x) / df_temp[df_temp.test==0].shape[0], 2),\n",
    "                             fill_value=0))\n",
    "print()\n",
    "print('Test dataset. Number of visitors, %')\n",
    "print(pd.pivot_table(df_temp[df_temp.test==1],\n",
    "                             index='day',\n",
    "                             columns='month',\n",
    "                             values='target',\n",
    "                             aggfunc=lambda x: round(100 * len(x) / df_temp[df_temp.test==1].shape[0], 2),\n",
    "                             fill_value=0))"
   ]
  },
  {
   "cell_type": "code",
   "execution_count": 76,
   "metadata": {},
   "outputs": [
    {
     "data": {
      "image/png": "[encoded data removed]",
      "text/plain": [
       "<Figure size 1080x360 with 1 Axes>"
      ]
     },
     "metadata": {
      "needs_background": "light"
     },
     "output_type": "display_data"
    }
   ],
   "source": [
    "# So, the month of the first website visit is indeed an important feature.\n",
    "# Now let's look at hour of the first visit\n",
    "\n",
    "figsize(15, 5)\n",
    "(df_temp[df_temp.test==0]\n",
    " .groupby('hour')\n",
    " .agg({'target':'mean'})\n",
    ").plot(title='Target distribution for hour')\n",
    "plt.grid()"
   ]
  },
  {
   "cell_type": "code",
   "execution_count": 10,
   "metadata": {},
   "outputs": [
    {
     "name": "stderr",
     "output_type": "stream",
     "text": [
      "100%|██████████| 41120/41120 [07:09<00:00, 95.75it/s] "
     ]
    },
    {
     "name": "stdout",
     "output_type": "stream",
     "text": [
      "(41120, 10)\n"
     ]
    },
    {
     "name": "stderr",
     "output_type": "stream",
     "text": [
      "\n"
     ]
    },
    {
     "data": {
      "text/html": [
       "<div>\n",
       "<style scoped>\n",
       "    .dataframe tbody tr th:only-of-type {\n",
       "        vertical-align: middle;\n",
       "    }\n",
       "\n",
       "    .dataframe tbody tr th {\n",
       "        vertical-align: top;\n",
       "    }\n",
       "\n",
       "    .dataframe thead th {\n",
       "        text-align: right;\n",
       "    }\n",
       "</style>\n",
       "<table border=\"1\" class=\"dataframe\">\n",
       "  <thead>\n",
       "    <tr style=\"text-align: right;\">\n",
       "      <th></th>\n",
       "      <th>user_id</th>\n",
       "      <th>target</th>\n",
       "      <th>n_sessions</th>\n",
       "      <th>n_pages</th>\n",
       "      <th>workday</th>\n",
       "      <th>weekend</th>\n",
       "      <th>night</th>\n",
       "      <th>morning</th>\n",
       "      <th>day</th>\n",
       "      <th>evening</th>\n",
       "    </tr>\n",
       "  </thead>\n",
       "  <tbody>\n",
       "    <tr>\n",
       "      <td>0</td>\n",
       "      <td>'1'</td>\n",
       "      <td>0</td>\n",
       "      <td>1</td>\n",
       "      <td>14</td>\n",
       "      <td>1</td>\n",
       "      <td>0</td>\n",
       "      <td>0</td>\n",
       "      <td>0</td>\n",
       "      <td>0</td>\n",
       "      <td>1</td>\n",
       "    </tr>\n",
       "    <tr>\n",
       "      <td>1</td>\n",
       "      <td>'100'</td>\n",
       "      <td>0</td>\n",
       "      <td>1</td>\n",
       "      <td>12</td>\n",
       "      <td>0</td>\n",
       "      <td>1</td>\n",
       "      <td>0</td>\n",
       "      <td>0</td>\n",
       "      <td>1</td>\n",
       "      <td>0</td>\n",
       "    </tr>\n",
       "    <tr>\n",
       "      <td>2</td>\n",
       "      <td>'1000'</td>\n",
       "      <td>0</td>\n",
       "      <td>1</td>\n",
       "      <td>17</td>\n",
       "      <td>1</td>\n",
       "      <td>0</td>\n",
       "      <td>0</td>\n",
       "      <td>0</td>\n",
       "      <td>0</td>\n",
       "      <td>1</td>\n",
       "    </tr>\n",
       "  </tbody>\n",
       "</table>\n",
       "</div>"
      ],
      "text/plain": [
       "  user_id  target  n_sessions  n_pages  workday  weekend  night  morning  day  \\\n",
       "0     '1'       0           1       14        1        0      0        0    0   \n",
       "1   '100'       0           1       12        0        1      0        0    1   \n",
       "2  '1000'       0           1       17        1        0      0        0    0   \n",
       "\n",
       "   evening  \n",
       "0        1  \n",
       "1        0  \n",
       "2        1  "
      ]
     },
     "execution_count": 10,
     "metadata": {},
     "output_type": "execute_result"
    }
   ],
   "source": [
    "# Now let's have a look at number of sessions and their time\n",
    "\n",
    "# numpy arrays for speed\n",
    "user_ids = df[df.test==0].user_id_64.values\n",
    "date_time = df[df.test==0].date_time.values\n",
    "target = df[df.test==0].target.values\n",
    "\n",
    "summary_user_id = []\n",
    "summary_target = []\n",
    "summary_n_sessions = []\n",
    "summary_n_pages = []\n",
    "summary_workday = []\n",
    "summary_weekend = []\n",
    "summary_night = []\n",
    "summary_morning = []\n",
    "summary_day = []\n",
    "summary_evening = []\n",
    "\n",
    "for user_id in tqdm(df[df.test==0].user_id_64.unique()):\n",
    "    ind = np.where(user_ids == user_id)[0]\n",
    "    \n",
    "    summary_user_id.append(user_id)\n",
    "    summary_target.append(max(target[ind]))\n",
    "    summary_n_pages.append(len(ind))\n",
    "    \n",
    "    # all dates of website visits\n",
    "    dates = np.sort(date_time[ind])\n",
    "    # time difference between visits in hours\n",
    "    dt = np.r_[np.array([0]), np.diff(dates) / np.timedelta64(1, 'h')]\n",
    "    # indexes of different sessions where a break was more than 30 min\n",
    "    dt_ind = np.r_[np.array([0]), np.where(dt > 0.5)[0], np.array(len(dates))]\n",
    "    \n",
    "    summary_n_sessions.append(len(dt_ind)-1)\n",
    "    \n",
    "    workday = 0\n",
    "    weekend = 0\n",
    "    night = 0\n",
    "    morning = 0\n",
    "    day = 0\n",
    "    evening = 0\n",
    "    \n",
    "    # loop over sessions\n",
    "    for i in dt_ind[:-1]:\n",
    "        d = arrow.get(str(dates[i]))\n",
    "        if d.format('dddd') not in ['Saturday', 'Sunday']:\n",
    "            workday += 1\n",
    "        else:\n",
    "            weekend += 1\n",
    "            \n",
    "        if d.hour < 6:\n",
    "            night += 1\n",
    "        elif d.hour < 12:\n",
    "            morning += 1\n",
    "        elif d.hour < 18:\n",
    "            day += 1\n",
    "        else:\n",
    "            evening += 1\n",
    "            \n",
    "    summary_workday.append(workday)\n",
    "    summary_weekend.append(weekend)\n",
    "    summary_night.append(night)\n",
    "    summary_morning.append(morning)\n",
    "    summary_day.append(day)\n",
    "    summary_evening.append(evening)\n",
    "    \n",
    "all_data = (pd.DataFrame(summary_user_id, columns=['user_id'])\n",
    "            .assign(target = summary_target,\n",
    "                    n_sessions = summary_n_sessions,\n",
    "                    n_pages = summary_n_pages,\n",
    "                    workday = summary_workday,\n",
    "                    weekend = summary_weekend,\n",
    "                    night = summary_night,\n",
    "                    morning = summary_morning,\n",
    "                    day = summary_day,\n",
    "                    evening = summary_evening\n",
    "                   )\n",
    "           )\n",
    "\n",
    "print(all_data.shape)\n",
    "all_data.head(3)"
   ]
  },
  {
   "cell_type": "code",
   "execution_count": 11,
   "metadata": {},
   "outputs": [
    {
     "data": {
      "text/plain": [
       "<matplotlib.axes._subplots.AxesSubplot at 0x7f9a20dbdc50>"
      ]
     },
     "execution_count": 11,
     "metadata": {},
     "output_type": "execute_result"
    },
    {
     "data": {
      "image/png": "[encoded data removed]",
      "text/plain": [
       "<Figure size 1080x360 with 1 Axes>"
      ]
     },
     "metadata": {
      "needs_background": "light"
     },
     "output_type": "display_data"
    }
   ],
   "source": [
    "sns.boxenplot(data=all_data.assign(n_sessions=lambda x: x.n_sessions.apply(lambda y: np.log10(y))),\n",
    "              y='n_sessions', x='target')"
   ]
  },
  {
   "cell_type": "code",
   "execution_count": 12,
   "metadata": {},
   "outputs": [
    {
     "data": {
      "text/plain": [
       "<matplotlib.axes._subplots.AxesSubplot at 0x7f9a28ea1e10>"
      ]
     },
     "execution_count": 12,
     "metadata": {},
     "output_type": "execute_result"
    },
    {
     "data": {
      "image/png": "[encoded data removed]",
      "text/plain": [
       "<Figure size 1080x360 with 1 Axes>"
      ]
     },
     "metadata": {
      "needs_background": "light"
     },
     "output_type": "display_data"
    }
   ],
   "source": [
    "sns.boxenplot(data=all_data.assign(n_pages=lambda x: x.n_pages.apply(lambda y: np.log10(y))),\n",
    "              y='n_pages', x='target')"
   ]
  },
  {
   "cell_type": "code",
   "execution_count": 13,
   "metadata": {},
   "outputs": [
    {
     "data": {
      "text/plain": [
       "<matplotlib.axes._subplots.AxesSubplot at 0x7f9a28e81a50>"
      ]
     },
     "execution_count": 13,
     "metadata": {},
     "output_type": "execute_result"
    },
    {
     "data": {
      "image/png": "[encoded data removed]",
      "text/plain": [
       "<Figure size 1080x360 with 1 Axes>"
      ]
     },
     "metadata": {
      "needs_background": "light"
     },
     "output_type": "display_data"
    }
   ],
   "source": [
    "# All other columns for workday/weekend or night/morning/day/evening don't show any significant difference\n",
    "\n",
    "sns.boxenplot(data=all_data, y='evening', x='target')"
   ]
  },
  {
   "cell_type": "code",
   "execution_count": 14,
   "metadata": {},
   "outputs": [],
   "source": [
    "# So, finally, the following features should be created from the date_time column:\n",
    "# - month of the first visit\n",
    "# - hour of the first visit\n",
    "# - n_sessions\n",
    "# - n_pages"
   ]
  },
  {
   "cell_type": "markdown",
   "metadata": {},
   "source": [
    "### event"
   ]
  },
  {
   "cell_type": "code",
   "execution_count": 15,
   "metadata": {},
   "outputs": [
    {
     "data": {
      "text/html": [
       "<div>\n",
       "<style scoped>\n",
       "    .dataframe tbody tr th:only-of-type {\n",
       "        vertical-align: middle;\n",
       "    }\n",
       "\n",
       "    .dataframe tbody tr th {\n",
       "        vertical-align: top;\n",
       "    }\n",
       "\n",
       "    .dataframe thead th {\n",
       "        text-align: right;\n",
       "    }\n",
       "</style>\n",
       "<table border=\"1\" class=\"dataframe\">\n",
       "  <thead>\n",
       "    <tr style=\"text-align: right;\">\n",
       "      <th>test</th>\n",
       "      <th>0</th>\n",
       "      <th>1</th>\n",
       "    </tr>\n",
       "    <tr>\n",
       "      <th>event</th>\n",
       "      <th></th>\n",
       "      <th></th>\n",
       "    </tr>\n",
       "  </thead>\n",
       "  <tbody>\n",
       "    <tr>\n",
       "      <td>AddPaymentInfo</td>\n",
       "      <td>9.959396e-07</td>\n",
       "      <td>0.000000</td>\n",
       "    </tr>\n",
       "    <tr>\n",
       "      <td>ItemView</td>\n",
       "      <td>6.446448e-01</td>\n",
       "      <td>0.159488</td>\n",
       "    </tr>\n",
       "    <tr>\n",
       "      <td>Lead</td>\n",
       "      <td>6.324216e-04</td>\n",
       "      <td>0.000147</td>\n",
       "    </tr>\n",
       "    <tr>\n",
       "      <td>PageView</td>\n",
       "      <td>1.565507e-01</td>\n",
       "      <td>0.038536</td>\n",
       "    </tr>\n",
       "  </tbody>\n",
       "</table>\n",
       "</div>"
      ],
      "text/plain": [
       "test                       0         1\n",
       "event                                 \n",
       "AddPaymentInfo  9.959396e-07  0.000000\n",
       "ItemView        6.446448e-01  0.159488\n",
       "Lead            6.324216e-04  0.000147\n",
       "PageView        1.565507e-01  0.038536"
      ]
     },
     "execution_count": 15,
     "metadata": {},
     "output_type": "execute_result"
    }
   ],
   "source": [
    "# Distribution of event values in train and test (seems similar)\n",
    "\n",
    "pd.crosstab(df.event, df.test, normalize=True)"
   ]
  },
  {
   "cell_type": "code",
   "execution_count": 16,
   "metadata": {},
   "outputs": [
    {
     "data": {
      "text/html": [
       "<div>\n",
       "<style scoped>\n",
       "    .dataframe tbody tr th:only-of-type {\n",
       "        vertical-align: middle;\n",
       "    }\n",
       "\n",
       "    .dataframe tbody tr th {\n",
       "        vertical-align: top;\n",
       "    }\n",
       "\n",
       "    .dataframe thead th {\n",
       "        text-align: right;\n",
       "    }\n",
       "</style>\n",
       "<table border=\"1\" class=\"dataframe\">\n",
       "  <thead>\n",
       "    <tr style=\"text-align: right;\">\n",
       "      <th></th>\n",
       "      <th>event</th>\n",
       "      <th>target</th>\n",
       "    </tr>\n",
       "  </thead>\n",
       "  <tbody>\n",
       "    <tr>\n",
       "      <td>0</td>\n",
       "      <td>AddPaymentInfo</td>\n",
       "      <td>1.000000</td>\n",
       "    </tr>\n",
       "    <tr>\n",
       "      <td>1</td>\n",
       "      <td>ItemView</td>\n",
       "      <td>0.072662</td>\n",
       "    </tr>\n",
       "    <tr>\n",
       "      <td>2</td>\n",
       "      <td>Lead</td>\n",
       "      <td>0.127559</td>\n",
       "    </tr>\n",
       "    <tr>\n",
       "      <td>3</td>\n",
       "      <td>PageView</td>\n",
       "      <td>0.099135</td>\n",
       "    </tr>\n",
       "  </tbody>\n",
       "</table>\n",
       "</div>"
      ],
      "text/plain": [
       "            event    target\n",
       "0  AddPaymentInfo  1.000000\n",
       "1        ItemView  0.072662\n",
       "2            Lead  0.127559\n",
       "3        PageView  0.099135"
      ]
     },
     "execution_count": 16,
     "metadata": {},
     "output_type": "execute_result"
    }
   ],
   "source": [
    "# Distribution of target in train\n",
    "\n",
    "(df.loc[df.test==0, df.columns[~df.columns.isin(['target'])]]\n",
    " # define target vs user_id\n",
    " .merge(df[df.test==0].groupby('user_id_64', as_index=False).agg({'target':'max'}))\n",
    " .groupby('event', as_index=False)\n",
    " .agg({'target': 'mean'})\n",
    ")"
   ]
  },
  {
   "cell_type": "markdown",
   "metadata": {},
   "source": [
    "### event_value"
   ]
  },
  {
   "cell_type": "code",
   "execution_count": 17,
   "metadata": {},
   "outputs": [
    {
     "data": {
      "text/plain": [
       "0    1004077\n",
       "Name: event_value, dtype: int64"
      ]
     },
     "execution_count": 17,
     "metadata": {},
     "output_type": "execute_result"
    }
   ],
   "source": [
    "df.event_value.value_counts()"
   ]
  },
  {
   "cell_type": "markdown",
   "metadata": {},
   "source": [
    "### item_ids"
   ]
  },
  {
   "cell_type": "code",
   "execution_count": 18,
   "metadata": {},
   "outputs": [
    {
     "data": {
      "text/html": [
       "<div>\n",
       "<style scoped>\n",
       "    .dataframe tbody tr th:only-of-type {\n",
       "        vertical-align: middle;\n",
       "    }\n",
       "\n",
       "    .dataframe tbody tr th {\n",
       "        vertical-align: top;\n",
       "    }\n",
       "\n",
       "    .dataframe thead th {\n",
       "        text-align: right;\n",
       "    }\n",
       "</style>\n",
       "<table border=\"1\" class=\"dataframe\">\n",
       "  <thead>\n",
       "    <tr style=\"text-align: right;\">\n",
       "      <th>test</th>\n",
       "      <th>0</th>\n",
       "      <th>1</th>\n",
       "    </tr>\n",
       "    <tr>\n",
       "      <th>item_ids</th>\n",
       "      <th></th>\n",
       "      <th></th>\n",
       "    </tr>\n",
       "  </thead>\n",
       "  <tbody>\n",
       "    <tr>\n",
       "      <td>[':']</td>\n",
       "      <td>1350</td>\n",
       "      <td>467</td>\n",
       "    </tr>\n",
       "    <tr>\n",
       "      <td>['cdu09 cdu figo 2020.00:2020']</td>\n",
       "      <td>600</td>\n",
       "      <td>96</td>\n",
       "    </tr>\n",
       "    <tr>\n",
       "      <td>['cge07 c519 focus 2019.75:2019']</td>\n",
       "      <td>5309</td>\n",
       "      <td>1217</td>\n",
       "    </tr>\n",
       "    <tr>\n",
       "      <td>['ford :2017']</td>\n",
       "      <td>0</td>\n",
       "      <td>2</td>\n",
       "    </tr>\n",
       "    <tr>\n",
       "      <td>['ford b max:2012']</td>\n",
       "      <td>2</td>\n",
       "      <td>0</td>\n",
       "    </tr>\n",
       "    <tr>\n",
       "      <td>...</td>\n",
       "      <td>...</td>\n",
       "      <td>...</td>\n",
       "    </tr>\n",
       "    <tr>\n",
       "      <td>['new puma:undefined']</td>\n",
       "      <td>2</td>\n",
       "      <td>0</td>\n",
       "    </tr>\n",
       "    <tr>\n",
       "      <td>['new ranger:undefined']</td>\n",
       "      <td>15</td>\n",
       "      <td>0</td>\n",
       "    </tr>\n",
       "    <tr>\n",
       "      <td>['transit courier:2020']</td>\n",
       "      <td>2</td>\n",
       "      <td>0</td>\n",
       "    </tr>\n",
       "    <tr>\n",
       "      <td>['undefined undefined-:undefined']</td>\n",
       "      <td>2</td>\n",
       "      <td>0</td>\n",
       "    </tr>\n",
       "    <tr>\n",
       "      <td>['undefined:undefined']</td>\n",
       "      <td>71630</td>\n",
       "      <td>17678</td>\n",
       "    </tr>\n",
       "  </tbody>\n",
       "</table>\n",
       "<p>246 rows × 2 columns</p>\n",
       "</div>"
      ],
      "text/plain": [
       "test                                    0      1\n",
       "item_ids                                        \n",
       "[':']                                1350    467\n",
       "['cdu09 cdu figo 2020.00:2020']       600     96\n",
       "['cge07 c519 focus 2019.75:2019']    5309   1217\n",
       "['ford :2017']                          0      2\n",
       "['ford b max:2012']                     2      0\n",
       "...                                   ...    ...\n",
       "['new puma:undefined']                  2      0\n",
       "['new ranger:undefined']               15      0\n",
       "['transit courier:2020']                2      0\n",
       "['undefined undefined-:undefined']      2      0\n",
       "['undefined:undefined']             71630  17678\n",
       "\n",
       "[246 rows x 2 columns]"
      ]
     },
     "execution_count": 18,
     "metadata": {},
     "output_type": "execute_result"
    }
   ],
   "source": [
    "pd.crosstab(df.item_ids, df.test)"
   ]
  },
  {
   "cell_type": "markdown",
   "metadata": {},
   "source": [
    "### item_types"
   ]
  },
  {
   "cell_type": "code",
   "execution_count": 19,
   "metadata": {},
   "outputs": [
    {
     "data": {
      "text/plain": [
       "['brand:dealer locator']                                                 1555\n",
       "['brand:owner:my vehicle:service booking:book service:select dealer']    1353\n",
       "['brand:test drive:select vehicle']                                       485\n",
       "['brand:checkout:dealer locator']                                         343\n",
       "['brand:test drive:select dealer']                                        216\n",
       "['brand:test drive:landing']                                               87\n",
       "['brand:dealer contact request:contact details']                           65\n",
       "['brand:dealer locator:results:pg 1']                                      28\n",
       "['brand:error:404']                                                        13\n",
       "['brand:dealer locator:error']                                              5\n",
       "['brand:test drive:select dealer:results']                                  1\n",
       "['brand:test drive:select vehicle & contact details']                       1\n",
       "['brand:home:dealer locator:result']                                        1\n",
       "['undefined']                                                               1\n",
       "['brand:dealer contact request:select vehicle']                             1\n",
       "Name: item_types, dtype: int64"
      ]
     },
     "execution_count": 19,
     "metadata": {},
     "output_type": "execute_result"
    }
   ],
   "source": [
    "# count the number of target == 1 in the train dataset and find the same rows in the test\n",
    "\n",
    "df[df.target==1].item_types.value_counts()"
   ]
  },
  {
   "cell_type": "code",
   "execution_count": 20,
   "metadata": {},
   "outputs": [
    {
     "data": {
      "text/plain": [
       "['brand:test drive:select dealer']            148\n",
       "['brand:home:dealer locator:result']           48\n",
       "['brand:test drive:select dealer:results']     45\n",
       "['undefined']                                  10\n",
       "Name: item_types, dtype: int64"
      ]
     },
     "execution_count": 20,
     "metadata": {},
     "output_type": "execute_result"
    }
   ],
   "source": [
    "# As we can see here, train and test datasets are different\n",
    "\n",
    "df.loc[(df.test==1) & (df.item_types.isin(df[df.target==1].item_types.unique())), :].item_types.value_counts()"
   ]
  },
  {
   "cell_type": "markdown",
   "metadata": {},
   "source": [
    "### pixel_uuid"
   ]
  },
  {
   "cell_type": "code",
   "execution_count": 21,
   "metadata": {},
   "outputs": [
    {
     "data": {
      "text/plain": [
       "d4d09503-c83d-4e72-ac4b-5bb306b9525d    1004077\n",
       "Name: pixel_uuid, dtype: int64"
      ]
     },
     "execution_count": 21,
     "metadata": {},
     "output_type": "execute_result"
    }
   ],
   "source": [
    "df.pixel_uuid.value_counts()"
   ]
  },
  {
   "cell_type": "markdown",
   "metadata": {},
   "source": [
    "### segment_name"
   ]
  },
  {
   "cell_type": "code",
   "execution_count": 22,
   "metadata": {},
   "outputs": [
    {
     "data": {
      "text/plain": [
       "UK_Owner_OSB Select Dealer                                    1353\n",
       "UK_Dealer Search Complete_Headlights_Funnel_All Nameplates     606\n",
       "UK_ Dealer Locator_FDR - Start                                 574\n",
       "Ford- Focus Active- Find Dealer                                403\n",
       "UK_Shop_Request-test-drive_all                                 379\n",
       "UK_Checkout_Checkout - Find Dealer                             343\n",
       "UK_Book a test drive_Headlights_ Funnel_All Nameplates         227\n",
       "Ford- Focus Active- Test Drive Request Finish                  196\n",
       "UK_dealer-locator_Contact Dealer - Select Vehicle               65\n",
       "UK_Dealer Locator_FDR - Complete                                 7\n",
       "Ford-Focus Active - Test Drive Start                             1\n",
       "UK_dealer-locator_Contact Dealer - Contact details               1\n",
       "Name: segment_name, dtype: int64"
      ]
     },
     "execution_count": 22,
     "metadata": {},
     "output_type": "execute_result"
    }
   ],
   "source": [
    "# count the number of target == 1 in the train dataset and find the same rows in the test\n",
    "\n",
    "df[df.target==1].segment_name.value_counts()"
   ]
  },
  {
   "cell_type": "code",
   "execution_count": 23,
   "metadata": {},
   "outputs": [
    {
     "data": {
      "text/plain": [
       "Series([], Name: segment_name, dtype: int64)"
      ]
     },
     "execution_count": 23,
     "metadata": {},
     "output_type": "execute_result"
    }
   ],
   "source": [
    "# So, it looks like in the test dataset all rows with target == 1 have been removed\n",
    "\n",
    "df.loc[(df.test==1) & (df.segment_name.isin(df[df.target==1].segment_name.unique())), :].segment_name.value_counts()"
   ]
  },
  {
   "cell_type": "markdown",
   "metadata": {
    "scrolled": true
   },
   "source": [
    "#### Here the difference become much clearer (there are sertain segment_names which were removed from the test dataset). It means that we would need to train our models on the train dataset where target == 0 only"
   ]
  },
  {
   "cell_type": "code",
   "execution_count": 24,
   "metadata": {
    "scrolled": true
   },
   "outputs": [
    {
     "data": {
      "text/html": [
       "<div>\n",
       "<style scoped>\n",
       "    .dataframe tbody tr th:only-of-type {\n",
       "        vertical-align: middle;\n",
       "    }\n",
       "\n",
       "    .dataframe tbody tr th {\n",
       "        vertical-align: top;\n",
       "    }\n",
       "\n",
       "    .dataframe thead th {\n",
       "        text-align: right;\n",
       "    }\n",
       "</style>\n",
       "<table border=\"1\" class=\"dataframe\">\n",
       "  <thead>\n",
       "    <tr style=\"text-align: right;\">\n",
       "      <th>test</th>\n",
       "      <th>0</th>\n",
       "      <th>1</th>\n",
       "      <th>ratio</th>\n",
       "    </tr>\n",
       "    <tr>\n",
       "      <th>segment_name</th>\n",
       "      <th></th>\n",
       "      <th></th>\n",
       "      <th></th>\n",
       "    </tr>\n",
       "  </thead>\n",
       "  <tbody>\n",
       "    <tr>\n",
       "      <td>UK_Book a test drive_Headlights_ Funnel_All Nameplates</td>\n",
       "      <td>227</td>\n",
       "      <td>0</td>\n",
       "      <td>0.000000</td>\n",
       "    </tr>\n",
       "    <tr>\n",
       "      <td>UK_Checkout_Checkout - Make Payment Start (Test)</td>\n",
       "      <td>1</td>\n",
       "      <td>0</td>\n",
       "      <td>0.000000</td>\n",
       "    </tr>\n",
       "    <tr>\n",
       "      <td>UK_Dealer Locator_FDR - Complete</td>\n",
       "      <td>7</td>\n",
       "      <td>0</td>\n",
       "      <td>0.000000</td>\n",
       "    </tr>\n",
       "    <tr>\n",
       "      <td>UK_Dealer Search Complete_Headlights_Funnel_All Nameplates</td>\n",
       "      <td>606</td>\n",
       "      <td>0</td>\n",
       "      <td>0.000000</td>\n",
       "    </tr>\n",
       "    <tr>\n",
       "      <td>UK_ Dealer Locator_FDR - Start</td>\n",
       "      <td>574</td>\n",
       "      <td>0</td>\n",
       "      <td>0.000000</td>\n",
       "    </tr>\n",
       "    <tr>\n",
       "      <td>...</td>\n",
       "      <td>...</td>\n",
       "      <td>...</td>\n",
       "      <td>...</td>\n",
       "    </tr>\n",
       "    <tr>\n",
       "      <td>UK_Brochures Listing_Headlights_Funnel_All nameplates</td>\n",
       "      <td>7448</td>\n",
       "      <td>2221</td>\n",
       "      <td>0.298201</td>\n",
       "    </tr>\n",
       "    <tr>\n",
       "      <td>UK_Ford Account_Account - Marketing Permissions</td>\n",
       "      <td>146</td>\n",
       "      <td>45</td>\n",
       "      <td>0.308219</td>\n",
       "    </tr>\n",
       "    <tr>\n",
       "      <td>UK_Ford Account_Account - Register complete (Test Lead)</td>\n",
       "      <td>107</td>\n",
       "      <td>33</td>\n",
       "      <td>0.308411</td>\n",
       "    </tr>\n",
       "    <tr>\n",
       "      <td>Ford - Focus Active - B&amp;P Start</td>\n",
       "      <td>55</td>\n",
       "      <td>25</td>\n",
       "      <td>0.454545</td>\n",
       "    </tr>\n",
       "    <tr>\n",
       "      <td>UK_Shop_KMI - Contact Details</td>\n",
       "      <td>806</td>\n",
       "      <td>381</td>\n",
       "      <td>0.472705</td>\n",
       "    </tr>\n",
       "  </tbody>\n",
       "</table>\n",
       "<p>61 rows × 3 columns</p>\n",
       "</div>"
      ],
      "text/plain": [
       "test                                                   0     1     ratio\n",
       "segment_name                                                            \n",
       "UK_Book a test drive_Headlights_ Funnel_All Nam...   227     0  0.000000\n",
       "UK_Checkout_Checkout - Make Payment Start (Test)       1     0  0.000000\n",
       "UK_Dealer Locator_FDR - Complete                       7     0  0.000000\n",
       "UK_Dealer Search Complete_Headlights_Funnel_All...   606     0  0.000000\n",
       "UK_ Dealer Locator_FDR - Start                       574     0  0.000000\n",
       "...                                                  ...   ...       ...\n",
       "UK_Brochures Listing_Headlights_Funnel_All name...  7448  2221  0.298201\n",
       "UK_Ford Account_Account - Marketing Permissions      146    45  0.308219\n",
       "UK_Ford Account_Account - Register complete (Te...   107    33  0.308411\n",
       "Ford - Focus Active - B&P Start                       55    25  0.454545\n",
       "UK_Shop_KMI - Contact Details                        806   381  0.472705\n",
       "\n",
       "[61 rows x 3 columns]"
      ]
     },
     "execution_count": 24,
     "metadata": {},
     "output_type": "execute_result"
    }
   ],
   "source": [
    "(pd.crosstab(df.segment_name, df.test)\n",
    " .assign(ratio = lambda x: x[1] / x[0])\n",
    " .sort_values('ratio', ascending=True)\n",
    ")"
   ]
  },
  {
   "cell_type": "markdown",
   "metadata": {},
   "source": [
    "### Process all data"
   ]
  },
  {
   "cell_type": "markdown",
   "metadata": {
    "scrolled": true
   },
   "source": [
    "So, I decided to use the following columns:\n",
    " - date_time (month, hour, n_sessions, n_pages)\n",
    " - event (as text feature)\n",
    " - item_ids (number of unique ids)\n",
    " - item_types (as text feature)\n",
    " - conversion_pixel_id (as text feature)\n",
    " - segment_name (as text feature)\n",
    " - http_referer (extract some values from the referer_list, as text feature)"
   ]
  },
  {
   "cell_type": "code",
   "execution_count": 69,
   "metadata": {
    "scrolled": true
   },
   "outputs": [
    {
     "name": "stderr",
     "output_type": "stream",
     "text": [
      "100%|██████████| 51400/51400 [11:08<00:00, 76.88it/s]\n"
     ]
    },
    {
     "data": {
      "text/html": [
       "<div>\n",
       "<style scoped>\n",
       "    .dataframe tbody tr th:only-of-type {\n",
       "        vertical-align: middle;\n",
       "    }\n",
       "\n",
       "    .dataframe tbody tr th {\n",
       "        vertical-align: top;\n",
       "    }\n",
       "\n",
       "    .dataframe thead th {\n",
       "        text-align: right;\n",
       "    }\n",
       "</style>\n",
       "<table border=\"1\" class=\"dataframe\">\n",
       "  <thead>\n",
       "    <tr style=\"text-align: right;\">\n",
       "      <th></th>\n",
       "      <th>user_id</th>\n",
       "      <th>target</th>\n",
       "      <th>test</th>\n",
       "      <th>n_sessions</th>\n",
       "      <th>n_pages</th>\n",
       "      <th>month</th>\n",
       "      <th>hour</th>\n",
       "      <th>item_ids_unique</th>\n",
       "    </tr>\n",
       "  </thead>\n",
       "  <tbody>\n",
       "    <tr>\n",
       "      <td>0</td>\n",
       "      <td>'1'</td>\n",
       "      <td>0</td>\n",
       "      <td>0</td>\n",
       "      <td>1</td>\n",
       "      <td>14</td>\n",
       "      <td>6</td>\n",
       "      <td>20</td>\n",
       "      <td>1</td>\n",
       "    </tr>\n",
       "    <tr>\n",
       "      <td>1</td>\n",
       "      <td>'100'</td>\n",
       "      <td>0</td>\n",
       "      <td>0</td>\n",
       "      <td>1</td>\n",
       "      <td>12</td>\n",
       "      <td>5</td>\n",
       "      <td>12</td>\n",
       "      <td>1</td>\n",
       "    </tr>\n",
       "    <tr>\n",
       "      <td>2</td>\n",
       "      <td>'1000'</td>\n",
       "      <td>0</td>\n",
       "      <td>0</td>\n",
       "      <td>1</td>\n",
       "      <td>17</td>\n",
       "      <td>2</td>\n",
       "      <td>23</td>\n",
       "      <td>3</td>\n",
       "    </tr>\n",
       "    <tr>\n",
       "      <td>3</td>\n",
       "      <td>'10000'</td>\n",
       "      <td>0</td>\n",
       "      <td>0</td>\n",
       "      <td>3</td>\n",
       "      <td>21</td>\n",
       "      <td>2</td>\n",
       "      <td>14</td>\n",
       "      <td>4</td>\n",
       "    </tr>\n",
       "    <tr>\n",
       "      <td>4</td>\n",
       "      <td>'10002'</td>\n",
       "      <td>0</td>\n",
       "      <td>0</td>\n",
       "      <td>1</td>\n",
       "      <td>10</td>\n",
       "      <td>2</td>\n",
       "      <td>19</td>\n",
       "      <td>2</td>\n",
       "    </tr>\n",
       "  </tbody>\n",
       "</table>\n",
       "</div>"
      ],
      "text/plain": [
       "   user_id  target  test  n_sessions  n_pages  month  hour  item_ids_unique\n",
       "0      '1'       0     0           1       14      6    20                1\n",
       "1    '100'       0     0           1       12      5    12                1\n",
       "2   '1000'       0     0           1       17      2    23                3\n",
       "3  '10000'       0     0           3       21      2    14                4\n",
       "4  '10002'       0     0           1       10      2    19                2"
      ]
     },
     "execution_count": 69,
     "metadata": {},
     "output_type": "execute_result"
    }
   ],
   "source": [
    "### Lists to store aggregated data\n",
    "summary_user_ids = []\n",
    "summary_target = []\n",
    "summary_test = []\n",
    "\n",
    "summary_n_sessions = []\n",
    "summary_n_pages = []\n",
    "summary_month = []\n",
    "summary_hour = []\n",
    "\n",
    "summary_item_ids_unique = []\n",
    "\n",
    "### Numpy arrays\n",
    "d_user_id_64 = df.user_id_64.values\n",
    "d_target = df.target.values\n",
    "d_test = df.test.values\n",
    "d_date_time = df.date_time.values\n",
    "d_item_ids = df.item_ids.values\n",
    "\n",
    "def process_user_id_new(user_id):\n",
    "    ind = np.where(d_user_id_64 == user_id)[0]\n",
    "    \n",
    "    # user_ids, target and test\n",
    "    summary_user_ids.append(user_id)\n",
    "    summary_target.append(d_target[ind].max())\n",
    "    summary_test.append(d_test[ind].max())\n",
    "    \n",
    "    # !!! remove all lines with target==1\n",
    "    ind = ind[np.where(d_target[ind] != 1)[0]]\n",
    "    \n",
    "    summary_n_pages.append(len(ind))\n",
    "    \n",
    "    # all dates of website visits\n",
    "    dates = np.sort(d_date_time[ind])\n",
    "    # time difference between visits in hours\n",
    "    dt = np.r_[np.array([0]), np.diff(dates) / np.timedelta64(1, 'h')]\n",
    "    # indexes of different sessions where a break was more than 30 min\n",
    "    dt_ind = np.r_[np.array([0]), np.where(dt > 0.5)[0], np.array(len(dates))]\n",
    "    \n",
    "    summary_n_sessions.append(len(dt_ind)-1)\n",
    "    \n",
    "    summary_month.append(arrow.get(str(dates[0])).month)\n",
    "    summary_hour.append(arrow.get(str(dates[0])).hour)\n",
    "    \n",
    "    # number of unique item_ids\n",
    "    summary_item_ids_unique.append(len(set(d_item_ids[ind])))\n",
    "    \n",
    "    \n",
    "### Execution\n",
    "for user_id in tqdm(df.user_id_64.unique()):\n",
    "    process_user_id_new(user_id)\n",
    "    \n",
    "all_data = (pd.DataFrame(summary_user_ids, columns=['user_id'])\n",
    "            .assign(target = summary_target,\n",
    "                    test = summary_test,\n",
    "                    n_sessions = summary_n_sessions,\n",
    "                    n_pages = summary_n_pages,\n",
    "                    month = summary_month,\n",
    "                    hour = summary_hour,\n",
    "                    item_ids_unique = summary_item_ids_unique\n",
    "                    )\n",
    "           )\n",
    "\n",
    "all_data.head()"
   ]
  },
  {
   "cell_type": "code",
   "execution_count": 70,
   "metadata": {},
   "outputs": [
    {
     "name": "stdout",
     "output_type": "stream",
     "text": [
      "(51400, 628)\n"
     ]
    },
    {
     "data": {
      "text/html": [
       "<div>\n",
       "<style scoped>\n",
       "    .dataframe tbody tr th:only-of-type {\n",
       "        vertical-align: middle;\n",
       "    }\n",
       "\n",
       "    .dataframe tbody tr th {\n",
       "        vertical-align: top;\n",
       "    }\n",
       "\n",
       "    .dataframe thead th {\n",
       "        text-align: right;\n",
       "    }\n",
       "</style>\n",
       "<table border=\"1\" class=\"dataframe\">\n",
       "  <thead>\n",
       "    <tr style=\"text-align: right;\">\n",
       "      <th></th>\n",
       "      <th>user_id</th>\n",
       "      <th>event_AddPaymentInfo</th>\n",
       "      <th>event_ItemView</th>\n",
       "      <th>event_Lead</th>\n",
       "      <th>event_PageView</th>\n",
       "      <th>item_types_['acc-dash:dashboard how-to overlay:video play']</th>\n",
       "      <th>item_types_['bp content:overlay:cta click:brochures']</th>\n",
       "      <th>item_types_['bp content:single feature:cta click:brochures']</th>\n",
       "      <th>item_types_['bp:360:maximise view:exterior']</th>\n",
       "      <th>item_types_['bp:360:minimise view:exterior']</th>\n",
       "      <th>...</th>\n",
       "      <th>conversion_pixel_ids_[1207834]</th>\n",
       "      <th>conversion_pixel_ids_[1217482]</th>\n",
       "      <th>conversion_pixel_ids_[]</th>\n",
       "      <th>target</th>\n",
       "      <th>test</th>\n",
       "      <th>n_sessions</th>\n",
       "      <th>n_pages</th>\n",
       "      <th>month</th>\n",
       "      <th>hour</th>\n",
       "      <th>item_ids_unique</th>\n",
       "    </tr>\n",
       "  </thead>\n",
       "  <tbody>\n",
       "    <tr>\n",
       "      <td>0</td>\n",
       "      <td>'1'</td>\n",
       "      <td>0.0</td>\n",
       "      <td>14.0</td>\n",
       "      <td>0.0</td>\n",
       "      <td>0.0</td>\n",
       "      <td>0.0</td>\n",
       "      <td>0.0</td>\n",
       "      <td>0.0</td>\n",
       "      <td>0.0</td>\n",
       "      <td>0.0</td>\n",
       "      <td>...</td>\n",
       "      <td>0.0</td>\n",
       "      <td>0.0</td>\n",
       "      <td>12.0</td>\n",
       "      <td>0</td>\n",
       "      <td>0</td>\n",
       "      <td>1</td>\n",
       "      <td>14</td>\n",
       "      <td>6</td>\n",
       "      <td>20</td>\n",
       "      <td>1</td>\n",
       "    </tr>\n",
       "    <tr>\n",
       "      <td>1</td>\n",
       "      <td>'10'</td>\n",
       "      <td>0.0</td>\n",
       "      <td>15.0</td>\n",
       "      <td>0.0</td>\n",
       "      <td>5.0</td>\n",
       "      <td>0.0</td>\n",
       "      <td>0.0</td>\n",
       "      <td>0.0</td>\n",
       "      <td>0.0</td>\n",
       "      <td>0.0</td>\n",
       "      <td>...</td>\n",
       "      <td>0.0</td>\n",
       "      <td>0.0</td>\n",
       "      <td>15.0</td>\n",
       "      <td>-1</td>\n",
       "      <td>1</td>\n",
       "      <td>1</td>\n",
       "      <td>20</td>\n",
       "      <td>4</td>\n",
       "      <td>22</td>\n",
       "      <td>2</td>\n",
       "    </tr>\n",
       "    <tr>\n",
       "      <td>2</td>\n",
       "      <td>'100'</td>\n",
       "      <td>0.0</td>\n",
       "      <td>11.0</td>\n",
       "      <td>0.0</td>\n",
       "      <td>1.0</td>\n",
       "      <td>0.0</td>\n",
       "      <td>0.0</td>\n",
       "      <td>0.0</td>\n",
       "      <td>0.0</td>\n",
       "      <td>0.0</td>\n",
       "      <td>...</td>\n",
       "      <td>0.0</td>\n",
       "      <td>0.0</td>\n",
       "      <td>8.0</td>\n",
       "      <td>0</td>\n",
       "      <td>0</td>\n",
       "      <td>1</td>\n",
       "      <td>12</td>\n",
       "      <td>5</td>\n",
       "      <td>12</td>\n",
       "      <td>1</td>\n",
       "    </tr>\n",
       "  </tbody>\n",
       "</table>\n",
       "<p>3 rows × 628 columns</p>\n",
       "</div>"
      ],
      "text/plain": [
       "  user_id  event_AddPaymentInfo  event_ItemView  event_Lead  event_PageView  \\\n",
       "0     '1'                   0.0            14.0         0.0             0.0   \n",
       "1    '10'                   0.0            15.0         0.0             5.0   \n",
       "2   '100'                   0.0            11.0         0.0             1.0   \n",
       "\n",
       "   item_types_['acc-dash:dashboard how-to overlay:video play']  \\\n",
       "0                                                0.0             \n",
       "1                                                0.0             \n",
       "2                                                0.0             \n",
       "\n",
       "   item_types_['bp content:overlay:cta click:brochures']  \\\n",
       "0                                                0.0       \n",
       "1                                                0.0       \n",
       "2                                                0.0       \n",
       "\n",
       "   item_types_['bp content:single feature:cta click:brochures']  \\\n",
       "0                                                0.0              \n",
       "1                                                0.0              \n",
       "2                                                0.0              \n",
       "\n",
       "   item_types_['bp:360:maximise view:exterior']  \\\n",
       "0                                           0.0   \n",
       "1                                           0.0   \n",
       "2                                           0.0   \n",
       "\n",
       "   item_types_['bp:360:minimise view:exterior']  ...  \\\n",
       "0                                           0.0  ...   \n",
       "1                                           0.0  ...   \n",
       "2                                           0.0  ...   \n",
       "\n",
       "   conversion_pixel_ids_[1207834]  conversion_pixel_ids_[1217482]  \\\n",
       "0                             0.0                             0.0   \n",
       "1                             0.0                             0.0   \n",
       "2                             0.0                             0.0   \n",
       "\n",
       "   conversion_pixel_ids_[]  target  test  n_sessions  n_pages  month  hour  \\\n",
       "0                     12.0       0     0           1       14      6    20   \n",
       "1                     15.0      -1     1           1       20      4    22   \n",
       "2                      8.0       0     0           1       12      5    12   \n",
       "\n",
       "   item_ids_unique  \n",
       "0                1  \n",
       "1                2  \n",
       "2                1  \n",
       "\n",
       "[3 rows x 628 columns]"
      ]
     },
     "execution_count": 70,
     "metadata": {},
     "output_type": "execute_result"
    }
   ],
   "source": [
    "# Add one-hot encoding for the rest of the columns\n",
    "\n",
    "train_cols = ['event', 'item_types', 'segment_name', 'conversion_pixel_ids']\n",
    "\n",
    "# prepare dummy variables and merge with preprocessed all_data\n",
    "# select rows with target!=1 to reflect the test dataset\n",
    "all_data1 = (pd.get_dummies(df.loc[df.target!=1, ['user_id_64'] + train_cols], columns=train_cols)\n",
    "              .groupby('user_id_64', as_index=False)\n",
    "              .agg('sum')\n",
    "              .rename(columns={'user_id_64':'user_id'})\n",
    "              .merge(all_data, on='user_id')\n",
    "           )\n",
    "\n",
    "print(all_data1.shape)\n",
    "all_data1.head(3)"
   ]
  },
  {
   "cell_type": "markdown",
   "metadata": {},
   "source": [
    "### Postprocessing"
   ]
  },
  {
   "cell_type": "code",
   "execution_count": 71,
   "metadata": {},
   "outputs": [
    {
     "data": {
      "text/plain": [
       "Text(0.5, 1.0, 'n_pages after log10 transformation')"
      ]
     },
     "execution_count": 71,
     "metadata": {},
     "output_type": "execute_result"
    },
    {
     "data": {
      "image/png": "[encoded data removed]",
      "text/plain": [
       "<Figure size 1080x720 with 4 Axes>"
      ]
     },
     "metadata": {
      "needs_background": "light"
     },
     "output_type": "display_data"
    }
   ],
   "source": [
    "# Transform some highly skewed features \n",
    "\n",
    "figsize(15, 10)\n",
    "f = plt.figure()\n",
    "\n",
    "ax1 = f.add_subplot(221)\n",
    "all_data1.n_sessions.hist()\n",
    "ax1.set_title('n_sessions before log10 transformation')\n",
    "\n",
    "ax2 = f.add_subplot(222)\n",
    "all_data1.n_sessions.apply(lambda x: np.log10(x)).hist()\n",
    "ax2.set_title('n_sessions after log10 transformation')\n",
    "\n",
    "ax3 = f.add_subplot(223)\n",
    "all_data1.n_pages.hist()\n",
    "ax3.set_title('n_pages after log10 transformation')\n",
    "\n",
    "ax4 = f.add_subplot(224)\n",
    "all_data1.n_pages.apply(lambda x: np.log10(x)).hist()\n",
    "ax4.set_title('n_pages after log10 transformation')"
   ]
  },
  {
   "cell_type": "code",
   "execution_count": 72,
   "metadata": {},
   "outputs": [
    {
     "data": {
      "text/plain": [
       "<matplotlib.axes._subplots.AxesSubplot at 0x7f9a00e28c90>"
      ]
     },
     "execution_count": 72,
     "metadata": {},
     "output_type": "execute_result"
    },
    {
     "data": {
      "image/png": "[encoded data removed]",
      "text/plain": [
       "<Figure size 1080x360 with 1 Axes>"
      ]
     },
     "metadata": {
      "needs_background": "light"
     },
     "output_type": "display_data"
    }
   ],
   "source": [
    "# Prove that item_ids_unique might be an important feature (target == -1 is for the test dataset)\n",
    "\n",
    "figsize(15, 5)\n",
    "sns.boxenplot(data=all_data1,\n",
    "              y='item_ids_unique', x='target')"
   ]
  },
  {
   "cell_type": "code",
   "execution_count": 73,
   "metadata": {
    "scrolled": true
   },
   "outputs": [
    {
     "data": {
      "text/html": [
       "<div>\n",
       "<style scoped>\n",
       "    .dataframe tbody tr th:only-of-type {\n",
       "        vertical-align: middle;\n",
       "    }\n",
       "\n",
       "    .dataframe tbody tr th {\n",
       "        vertical-align: top;\n",
       "    }\n",
       "\n",
       "    .dataframe thead tr th {\n",
       "        text-align: left;\n",
       "    }\n",
       "\n",
       "    .dataframe thead tr:last-of-type th {\n",
       "        text-align: right;\n",
       "    }\n",
       "</style>\n",
       "<table border=\"1\" class=\"dataframe\">\n",
       "  <thead>\n",
       "    <tr>\n",
       "      <th></th>\n",
       "      <th colspan=\"2\" halign=\"left\">target</th>\n",
       "    </tr>\n",
       "    <tr>\n",
       "      <th></th>\n",
       "      <th>mean</th>\n",
       "      <th>count</th>\n",
       "    </tr>\n",
       "    <tr>\n",
       "      <th>item_ids_unique</th>\n",
       "      <th></th>\n",
       "      <th></th>\n",
       "    </tr>\n",
       "  </thead>\n",
       "  <tbody>\n",
       "    <tr>\n",
       "      <td>1</td>\n",
       "      <td>0.131635</td>\n",
       "      <td>23322</td>\n",
       "    </tr>\n",
       "    <tr>\n",
       "      <td>2</td>\n",
       "      <td>0.065130</td>\n",
       "      <td>11930</td>\n",
       "    </tr>\n",
       "    <tr>\n",
       "      <td>3</td>\n",
       "      <td>0.051282</td>\n",
       "      <td>3783</td>\n",
       "    </tr>\n",
       "    <tr>\n",
       "      <td>4</td>\n",
       "      <td>0.051174</td>\n",
       "      <td>1192</td>\n",
       "    </tr>\n",
       "    <tr>\n",
       "      <td>5</td>\n",
       "      <td>0.063205</td>\n",
       "      <td>443</td>\n",
       "    </tr>\n",
       "    <tr>\n",
       "      <td>6</td>\n",
       "      <td>0.042056</td>\n",
       "      <td>214</td>\n",
       "    </tr>\n",
       "    <tr>\n",
       "      <td>7</td>\n",
       "      <td>0.074468</td>\n",
       "      <td>94</td>\n",
       "    </tr>\n",
       "    <tr>\n",
       "      <td>8</td>\n",
       "      <td>0.053571</td>\n",
       "      <td>56</td>\n",
       "    </tr>\n",
       "    <tr>\n",
       "      <td>9</td>\n",
       "      <td>0.085714</td>\n",
       "      <td>35</td>\n",
       "    </tr>\n",
       "    <tr>\n",
       "      <td>10</td>\n",
       "      <td>0.047619</td>\n",
       "      <td>21</td>\n",
       "    </tr>\n",
       "    <tr>\n",
       "      <td>11</td>\n",
       "      <td>0.083333</td>\n",
       "      <td>12</td>\n",
       "    </tr>\n",
       "    <tr>\n",
       "      <td>12</td>\n",
       "      <td>0.000000</td>\n",
       "      <td>3</td>\n",
       "    </tr>\n",
       "    <tr>\n",
       "      <td>13</td>\n",
       "      <td>0.000000</td>\n",
       "      <td>2</td>\n",
       "    </tr>\n",
       "    <tr>\n",
       "      <td>14</td>\n",
       "      <td>0.000000</td>\n",
       "      <td>4</td>\n",
       "    </tr>\n",
       "    <tr>\n",
       "      <td>15</td>\n",
       "      <td>0.000000</td>\n",
       "      <td>2</td>\n",
       "    </tr>\n",
       "    <tr>\n",
       "      <td>16</td>\n",
       "      <td>0.000000</td>\n",
       "      <td>2</td>\n",
       "    </tr>\n",
       "    <tr>\n",
       "      <td>17</td>\n",
       "      <td>0.000000</td>\n",
       "      <td>1</td>\n",
       "    </tr>\n",
       "    <tr>\n",
       "      <td>18</td>\n",
       "      <td>0.000000</td>\n",
       "      <td>1</td>\n",
       "    </tr>\n",
       "    <tr>\n",
       "      <td>20</td>\n",
       "      <td>1.000000</td>\n",
       "      <td>1</td>\n",
       "    </tr>\n",
       "    <tr>\n",
       "      <td>22</td>\n",
       "      <td>0.000000</td>\n",
       "      <td>1</td>\n",
       "    </tr>\n",
       "    <tr>\n",
       "      <td>24</td>\n",
       "      <td>0.000000</td>\n",
       "      <td>1</td>\n",
       "    </tr>\n",
       "  </tbody>\n",
       "</table>\n",
       "</div>"
      ],
      "text/plain": [
       "                   target       \n",
       "                     mean  count\n",
       "item_ids_unique                 \n",
       "1                0.131635  23322\n",
       "2                0.065130  11930\n",
       "3                0.051282   3783\n",
       "4                0.051174   1192\n",
       "5                0.063205    443\n",
       "6                0.042056    214\n",
       "7                0.074468     94\n",
       "8                0.053571     56\n",
       "9                0.085714     35\n",
       "10               0.047619     21\n",
       "11               0.083333     12\n",
       "12               0.000000      3\n",
       "13               0.000000      2\n",
       "14               0.000000      4\n",
       "15               0.000000      2\n",
       "16               0.000000      2\n",
       "17               0.000000      1\n",
       "18               0.000000      1\n",
       "20               1.000000      1\n",
       "22               0.000000      1\n",
       "24               0.000000      1"
      ]
     },
     "execution_count": 73,
     "metadata": {},
     "output_type": "execute_result"
    }
   ],
   "source": [
    "# Check target value for item_ids_unique\n",
    "# The most informative value here is whether item_ids_unique == 1 or not\n",
    "\n",
    "all_data1[all_data1.test==0].groupby('item_ids_unique').agg({'target':['mean', 'count']})"
   ]
  },
  {
   "cell_type": "code",
   "execution_count": 65,
   "metadata": {},
   "outputs": [
    {
     "data": {
      "text/plain": [
       "<matplotlib.axes._subplots.AxesSubplot at 0x7f9a011dbb90>"
      ]
     },
     "execution_count": 65,
     "metadata": {},
     "output_type": "execute_result"
    },
    {
     "data": {
      "image/png": "[encoded data removed]",
      "text/plain": [
       "<Figure size 1080x360 with 1 Axes>"
      ]
     },
     "metadata": {
      "needs_background": "light"
     },
     "output_type": "display_data"
    }
   ],
   "source": [
    "# correct month and hour from date_time to get linear dependance of target\n",
    "\n",
    "(all_data1[all_data1.test==0]\n",
    " .assign(month=lambda x: [14 if y==2 else y for y in x.month])\n",
    " .groupby('month')\n",
    " .agg({'target':np.mean})\n",
    ").plot()"
   ]
  },
  {
   "cell_type": "code",
   "execution_count": 78,
   "metadata": {},
   "outputs": [],
   "source": [
    "# apply all changes\n",
    "\n",
    "all_data = (all_data1\n",
    "             .assign(n_sessions = lambda x: x.n_sessions.apply(lambda y: np.log10(y)),\n",
    "                     n_pages = lambda x: x.n_pages.apply(lambda y: np.log10(y)),\n",
    "                     item_ids_unique = lambda x: [1 if y==1 else 0 for y in x.item_ids_unique],\n",
    "                     month = lambda x: [14 if y==2 else y for y in x.month],\n",
    "                     hour = lambda x: ['night' if y<7 else 'morning' if y<13 else 'day' if y<19 else 'evening' for y in x.hour])\n",
    ")"
   ]
  },
  {
   "cell_type": "code",
   "execution_count": 68,
   "metadata": {},
   "outputs": [],
   "source": [
    "all_data.to_hdf('all_data.h5', 'data')"
   ]
  },
  {
   "cell_type": "code",
   "execution_count": null,
   "metadata": {},
   "outputs": [],
   "source": []
  }
 ],
 "metadata": {
  "kernelspec": {
   "display_name": "Python 3",
   "language": "python",
   "name": "python3"
  },
  "language_info": {
   "codemirror_mode": {
    "name": "ipython",
    "version": 3
   },
   "file_extension": ".py",
   "mimetype": "text/x-python",
   "name": "python",
   "nbconvert_exporter": "python",
   "pygments_lexer": "ipython3",
   "version": "3.7.4"
  }
 },
 "nbformat": 4,
 "nbformat_minor": 2
}
