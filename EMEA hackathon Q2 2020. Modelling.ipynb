{
 "cells": [
  {
   "cell_type": "markdown",
   "metadata": {},
   "source": [
    "# <center>EMEA hackathon Q2 2020. Modelling</center>\n",
    "\n",
    "### Description\n",
    "Use of universal pixels are becoming more and more popular to improve efficiency and drive revenue. Universal pixel or tag is a code snippet which can be placed across a website and track users’ actions. This information collected from tracking can be used for tracking conversions or building audiences.\n",
    "\n",
    "The goal of 2020 Q2 EMEA hackathon is to familiarise yourself with the data from universal pixel and make a prediction if a user is in a high value segment. The data comes from one of our clients. A high value segment is a group of users that are highly likely to take a specific action that is valuable to the client such as purchasing a product. Between these users there are commonalities that you could investigate to make your prediction.\n",
    "\n",
    "### Data structure\n",
    "| Field | Description |\n",
    "|:-------|:-------------|\n",
    "| **date_time** | The time and date of the universal pixel fire |\n",
    "| **user_id_64** | User id |\n",
    "| **url** |\tThe entire URL of the page the pixel is on |\n",
    "| **http_referer** | The entire URL of the referrer to the page the pixel is on |\n",
    "| **event**\t| The event associated with the pixel fire |\n",
    "| **item_ids**\t| Strings passed in on the item_id parameter within your pixel |\n",
    "| **item_types** |\tStrings passed in on the item_type parameter within your pixel |\n",
    "| **item_names** | Strings passed in on the item_name parameter within your pixel |\n",
    "| **segment_id** | The list of IDs for the segments the user was added to as a result of the universal pixel firing |\n",
    "| **segment_name** | Name of a segment |\n",
    "| **conversion_pixel_ids** | The list of IDs for the conversion events triggered by the user as a result of the universal pixel firing |\n",
    "| **partition_time_millis** | The hourly partition any record row falls into |\n",
    "| **event_value** |\tThe nominal value of the event |\n",
    "\n",
    "### Evaluation metric and results\n",
    "The competition metric was **F1 score**\n",
    "\n",
    "Top 3 submission results:\n",
    "\n",
    "    1)  0.615\n",
    "    2)  0.607\n",
    "    3)  0.598\n",
    "    \n",
    "The goal of these notebooks is to explore the dataset and to see where the score could be improved."
   ]
  },
  {
   "cell_type": "code",
   "execution_count": 1,
   "metadata": {},
   "outputs": [],
   "source": [
    "from IPython.core.pylabtools import figsize\n",
    "import matplotlib.pyplot as plt\n",
    "\n",
    "import pandas as pd\n",
    "import numpy as np\n",
    "\n",
    "%matplotlib inline"
   ]
  },
  {
   "cell_type": "code",
   "execution_count": 2,
   "metadata": {},
   "outputs": [
    {
     "data": {
      "text/plain": [
       "(10280, 2)"
      ]
     },
     "metadata": {},
     "output_type": "display_data"
    }
   ],
   "source": [
    "from sklearn.metrics import f1_score\n",
    "\n",
    "test_labels = pd.read_csv('GroundTruth/Perfect Preds.csv')\n",
    "display(test_labels.shape)\n",
    "\n",
    "# Function to evaluate prediction on the test dataset\n",
    "def evaluate_preds(pred):\n",
    "    return f1_score(test_labels.pred.values, pred)"
   ]
  },
  {
   "cell_type": "markdown",
   "metadata": {},
   "source": [
    "## Catboost model on prepared data"
   ]
  },
  {
   "cell_type": "code",
   "execution_count": 203,
   "metadata": {},
   "outputs": [
    {
     "name": "stdout",
     "output_type": "stream",
     "text": [
      "(51400, 628)\n"
     ]
    },
    {
     "data": {
      "text/html": [
       "<div>\n",
       "<style scoped>\n",
       "    .dataframe tbody tr th:only-of-type {\n",
       "        vertical-align: middle;\n",
       "    }\n",
       "\n",
       "    .dataframe tbody tr th {\n",
       "        vertical-align: top;\n",
       "    }\n",
       "\n",
       "    .dataframe thead th {\n",
       "        text-align: right;\n",
       "    }\n",
       "</style>\n",
       "<table border=\"1\" class=\"dataframe\">\n",
       "  <thead>\n",
       "    <tr style=\"text-align: right;\">\n",
       "      <th></th>\n",
       "      <th>user_id</th>\n",
       "      <th>event_AddPaymentInfo</th>\n",
       "      <th>event_ItemView</th>\n",
       "      <th>event_Lead</th>\n",
       "      <th>event_PageView</th>\n",
       "      <th>item_types_['acc-dash:dashboard how-to overlay:video play']</th>\n",
       "      <th>item_types_['bp content:overlay:cta click:brochures']</th>\n",
       "      <th>item_types_['bp content:single feature:cta click:brochures']</th>\n",
       "      <th>item_types_['bp:360:maximise view:exterior']</th>\n",
       "      <th>item_types_['bp:360:minimise view:exterior']</th>\n",
       "      <th>...</th>\n",
       "      <th>conversion_pixel_ids_[1207834]</th>\n",
       "      <th>conversion_pixel_ids_[1217482]</th>\n",
       "      <th>conversion_pixel_ids_[]</th>\n",
       "      <th>target</th>\n",
       "      <th>test</th>\n",
       "      <th>n_sessions</th>\n",
       "      <th>n_pages</th>\n",
       "      <th>month</th>\n",
       "      <th>hour</th>\n",
       "      <th>item_ids_unique</th>\n",
       "    </tr>\n",
       "  </thead>\n",
       "  <tbody>\n",
       "    <tr>\n",
       "      <td>0</td>\n",
       "      <td>'1'</td>\n",
       "      <td>0.0</td>\n",
       "      <td>14.0</td>\n",
       "      <td>0.0</td>\n",
       "      <td>0.0</td>\n",
       "      <td>0.0</td>\n",
       "      <td>0.0</td>\n",
       "      <td>0.0</td>\n",
       "      <td>0.0</td>\n",
       "      <td>0.0</td>\n",
       "      <td>...</td>\n",
       "      <td>0.0</td>\n",
       "      <td>0.0</td>\n",
       "      <td>12.0</td>\n",
       "      <td>0</td>\n",
       "      <td>0</td>\n",
       "      <td>0.0</td>\n",
       "      <td>1.146128</td>\n",
       "      <td>6</td>\n",
       "      <td>evening</td>\n",
       "      <td>1</td>\n",
       "    </tr>\n",
       "    <tr>\n",
       "      <td>1</td>\n",
       "      <td>'10'</td>\n",
       "      <td>0.0</td>\n",
       "      <td>15.0</td>\n",
       "      <td>0.0</td>\n",
       "      <td>5.0</td>\n",
       "      <td>0.0</td>\n",
       "      <td>0.0</td>\n",
       "      <td>0.0</td>\n",
       "      <td>0.0</td>\n",
       "      <td>0.0</td>\n",
       "      <td>...</td>\n",
       "      <td>0.0</td>\n",
       "      <td>0.0</td>\n",
       "      <td>15.0</td>\n",
       "      <td>-1</td>\n",
       "      <td>1</td>\n",
       "      <td>0.0</td>\n",
       "      <td>1.301030</td>\n",
       "      <td>4</td>\n",
       "      <td>evening</td>\n",
       "      <td>0</td>\n",
       "    </tr>\n",
       "    <tr>\n",
       "      <td>2</td>\n",
       "      <td>'100'</td>\n",
       "      <td>0.0</td>\n",
       "      <td>11.0</td>\n",
       "      <td>0.0</td>\n",
       "      <td>1.0</td>\n",
       "      <td>0.0</td>\n",
       "      <td>0.0</td>\n",
       "      <td>0.0</td>\n",
       "      <td>0.0</td>\n",
       "      <td>0.0</td>\n",
       "      <td>...</td>\n",
       "      <td>0.0</td>\n",
       "      <td>0.0</td>\n",
       "      <td>8.0</td>\n",
       "      <td>0</td>\n",
       "      <td>0</td>\n",
       "      <td>0.0</td>\n",
       "      <td>1.079181</td>\n",
       "      <td>5</td>\n",
       "      <td>morning</td>\n",
       "      <td>1</td>\n",
       "    </tr>\n",
       "  </tbody>\n",
       "</table>\n",
       "<p>3 rows × 628 columns</p>\n",
       "</div>"
      ],
      "text/plain": [
       "  user_id  event_AddPaymentInfo  event_ItemView  event_Lead  event_PageView  \\\n",
       "0     '1'                   0.0            14.0         0.0             0.0   \n",
       "1    '10'                   0.0            15.0         0.0             5.0   \n",
       "2   '100'                   0.0            11.0         0.0             1.0   \n",
       "\n",
       "   item_types_['acc-dash:dashboard how-to overlay:video play']  \\\n",
       "0                                                0.0             \n",
       "1                                                0.0             \n",
       "2                                                0.0             \n",
       "\n",
       "   item_types_['bp content:overlay:cta click:brochures']  \\\n",
       "0                                                0.0       \n",
       "1                                                0.0       \n",
       "2                                                0.0       \n",
       "\n",
       "   item_types_['bp content:single feature:cta click:brochures']  \\\n",
       "0                                                0.0              \n",
       "1                                                0.0              \n",
       "2                                                0.0              \n",
       "\n",
       "   item_types_['bp:360:maximise view:exterior']  \\\n",
       "0                                           0.0   \n",
       "1                                           0.0   \n",
       "2                                           0.0   \n",
       "\n",
       "   item_types_['bp:360:minimise view:exterior']  ...  \\\n",
       "0                                           0.0  ...   \n",
       "1                                           0.0  ...   \n",
       "2                                           0.0  ...   \n",
       "\n",
       "   conversion_pixel_ids_[1207834]  conversion_pixel_ids_[1217482]  \\\n",
       "0                             0.0                             0.0   \n",
       "1                             0.0                             0.0   \n",
       "2                             0.0                             0.0   \n",
       "\n",
       "   conversion_pixel_ids_[]  target  test  n_sessions   n_pages  month  \\\n",
       "0                     12.0       0     0         0.0  1.146128      6   \n",
       "1                     15.0      -1     1         0.0  1.301030      4   \n",
       "2                      8.0       0     0         0.0  1.079181      5   \n",
       "\n",
       "      hour  item_ids_unique  \n",
       "0  evening                1  \n",
       "1  evening                0  \n",
       "2  morning                1  \n",
       "\n",
       "[3 rows x 628 columns]"
      ]
     },
     "execution_count": 203,
     "metadata": {},
     "output_type": "execute_result"
    }
   ],
   "source": [
    "df = pd.read_hdf('all_data.h5', 'data')\n",
    "print(df.shape)\n",
    "df.head(3)"
   ]
  },
  {
   "cell_type": "code",
   "execution_count": 224,
   "metadata": {},
   "outputs": [
    {
     "name": "stdout",
     "output_type": "stream",
     "text": [
      "(41120, 625) (41120,) (10280, 625)\n"
     ]
    }
   ],
   "source": [
    "from sklearn.preprocessing import StandardScaler\n",
    "\n",
    "# I'm going to use StandardScaler to apply RidgeClassifier for feature selection \n",
    "scaler = StandardScaler()\n",
    "\n",
    "# consider month and hour as categorical variables, so add them later\n",
    "cols_to_transform = df.columns[~df.columns.isin(['user_id', 'target', 'test', 'month', 'hour'])].tolist()\n",
    "\n",
    "# fit on the training dataset\n",
    "scaler.fit(df.loc[df.test==0, cols_to_transform])\n",
    "\n",
    "# transform features and add 'month' and 'hour' at the end as categorical ones\n",
    "X_train = pd.DataFrame(scaler.transform(df.loc[df.test==0, cols_to_transform]), columns=cols_to_transform)\n",
    "X_train = pd.concat([X_train, df.loc[df.test==0, ['month', 'hour']].reset_index(drop=True).apply(lambda x: x.apply(lambda y: str(y)))],\n",
    "                   axis=1)\n",
    "y_train = df.loc[df.test==0, 'target'].values\n",
    "\n",
    "X_test = pd.DataFrame(scaler.transform(df.loc[df.test==1, cols_to_transform]), columns=cols_to_transform)\n",
    "X_test = pd.concat([X_test, df.loc[df.test==1, ['month', 'hour']].reset_index(drop=True).apply(lambda x: x.apply(lambda y: str(y)))],\n",
    "                   axis=1)\n",
    "\n",
    "print(X_train.shape, y_train.shape, X_test.shape)"
   ]
  },
  {
   "cell_type": "markdown",
   "metadata": {},
   "source": [
    "### Feature selection"
   ]
  },
  {
   "cell_type": "code",
   "execution_count": 227,
   "metadata": {},
   "outputs": [
    {
     "name": "stdout",
     "output_type": "stream",
     "text": [
      "Fitting 5 folds for each of 30 candidates, totalling 150 fits\n"
     ]
    },
    {
     "name": "stderr",
     "output_type": "stream",
     "text": [
      "[Parallel(n_jobs=-1)]: Using backend LokyBackend with 8 concurrent workers.\n",
      "[Parallel(n_jobs=-1)]: Done  34 tasks      | elapsed:   18.6s\n",
      "[Parallel(n_jobs=-1)]: Done 150 out of 150 | elapsed:  1.0min finished\n"
     ]
    }
   ],
   "source": [
    "from sklearn.linear_model import RidgeClassifier\n",
    "from sklearn.model_selection import GridSearchCV\n",
    "\n",
    "# train on all except the 'month' and 'hour' features\n",
    "gscv = GridSearchCV(RidgeClassifier(),\n",
    "                    param_grid={'alpha':np.logspace(-1, 1, 6),\n",
    "                                'class_weight':[{0:x, 1:(1-x)} for x in np.linspace(0.22, 0.3, 5)]},\n",
    "                    scoring='f1',\n",
    "                    cv=5,\n",
    "                    n_jobs=-1,\n",
    "                    verbose=1).fit(X_train.loc[:, X_train.columns[:-2]], y_train)"
   ]
  },
  {
   "cell_type": "code",
   "execution_count": 228,
   "metadata": {},
   "outputs": [
    {
     "data": {
      "text/plain": [
       "{'alpha': 0.6309573444801934, 'class_weight': {0: 0.22, 1: 0.78}}"
      ]
     },
     "execution_count": 228,
     "metadata": {},
     "output_type": "execute_result"
    }
   ],
   "source": [
    "gscv.best_params_\n",
    "#gscv.best_score_"
   ]
  },
  {
   "cell_type": "code",
   "execution_count": 229,
   "metadata": {},
   "outputs": [
    {
     "data": {
      "text/plain": [
       "0.5341545352743561"
      ]
     },
     "execution_count": 229,
     "metadata": {},
     "output_type": "execute_result"
    }
   ],
   "source": [
    "# F1 score on the test dataset\n",
    "evaluate_preds(gscv.best_estimator_.predict(X_test.loc[:, X_test.columns[:-2]]))"
   ]
  },
  {
   "cell_type": "code",
   "execution_count": 230,
   "metadata": {},
   "outputs": [
    {
     "name": "stderr",
     "output_type": "stream",
     "text": [
      "/home/sergei/Programms/anaconda3/lib/python3.7/site-packages/ipykernel_launcher.py:3: RuntimeWarning: divide by zero encountered in log10\n",
      "  This is separate from the ipykernel package so we can avoid doing imports until\n"
     ]
    },
    {
     "data": {
      "text/plain": [
       "[<matplotlib.lines.Line2D at 0x7f7c67c4bf90>]"
      ]
     },
     "execution_count": 230,
     "metadata": {},
     "output_type": "execute_result"
    },
    {
     "data": {
      "image/png": "[encoded data removed]",
      "text/plain": [
       "<Figure size 432x288 with 1 Axes>"
      ]
     },
     "metadata": {
      "needs_background": "light"
     },
     "output_type": "display_data"
    }
   ],
   "source": [
    "# Distribution of coefficient weights\n",
    "\n",
    "plt.plot(np.log10(np.sort(abs(gscv.best_estimator_.coef_))[0][::-1]))"
   ]
  },
  {
   "cell_type": "code",
   "execution_count": 231,
   "metadata": {},
   "outputs": [
    {
     "data": {
      "text/plain": [
       "431"
      ]
     },
     "metadata": {},
     "output_type": "display_data"
    },
    {
     "data": {
      "text/plain": [
       "[<matplotlib.lines.Line2D at 0x7f7c67c8b590>]"
      ]
     },
     "execution_count": 231,
     "metadata": {},
     "output_type": "execute_result"
    },
    {
     "data": {
      "image/png": "[encoded data removed]",
      "text/plain": [
       "<Figure size 432x288 with 1 Axes>"
      ]
     },
     "metadata": {
      "needs_background": "light"
     },
     "output_type": "display_data"
    }
   ],
   "source": [
    "# how many features to select\n",
    "\n",
    "from sklearn.decomposition import PCA\n",
    "\n",
    "pca = PCA().fit(X_train.loc[:, X_train.columns[:-2]])\n",
    "\n",
    "display(np.max(np.where(pca.explained_variance_ratio_.cumsum() < 0.95)[0]))\n",
    "plt.plot(pca.explained_variance_ratio_.cumsum())"
   ]
  },
  {
   "cell_type": "code",
   "execution_count": 242,
   "metadata": {},
   "outputs": [
    {
     "name": "stdout",
     "output_type": "stream",
     "text": [
      "(41120, 407) (10280, 407)\n"
     ]
    }
   ],
   "source": [
    "from sklearn.feature_selection import SelectFromModel\n",
    "\n",
    "# select best features from RidgeClassifier model. Adjust the threshold value to get about 431 features\n",
    "selector = SelectFromModel(gscv.best_estimator_, threshold=3e-3, prefit=True)\n",
    "\n",
    "X_new = X_train.loc[:, X_train.columns[:-2][selector.get_support()].tolist() + ['month', 'hour']]\n",
    "X_test_new = X_test.loc[:, X_test.columns[:-2][selector.get_support()].tolist() + ['month', 'hour']]\n",
    "print(X_new.shape, X_test_new.shape)"
   ]
  },
  {
   "cell_type": "markdown",
   "metadata": {},
   "source": [
    "### Explore model parameter ranges"
   ]
  },
  {
   "cell_type": "code",
   "execution_count": 243,
   "metadata": {},
   "outputs": [],
   "source": [
    "from catboost import Pool, CatBoostClassifier\n",
    "from sklearn.model_selection import train_test_split\n",
    "\n",
    "X_tr, X_val, y_tr, y_val = train_test_split(X_new, y_train, test_size=0.33, stratify=y_train, random_state=99)\n",
    "train_pool = Pool(X_tr, y_tr, cat_features=[405, 406])\n",
    "valid_pool = Pool(X_val, y_val, cat_features=[405, 406])\n",
    "\n",
    "train_full = Pool(X_new, y_train, cat_features=[405, 406])\n",
    "test_pool = Pool(X_test_new, cat_features=[405, 406])"
   ]
  },
  {
   "cell_type": "code",
   "execution_count": 259,
   "metadata": {},
   "outputs": [
    {
     "data": {
      "text/plain": [
       "0.5904186447993094"
      ]
     },
     "execution_count": 259,
     "metadata": {},
     "output_type": "execute_result"
    }
   ],
   "source": [
    "ctb = CatBoostClassifier(iterations=1000,\n",
    "                         learning_rate=0.05,\n",
    "                         depth=6,\n",
    "                         thread_count=-1,\n",
    "                         loss_function='Logloss',\n",
    "                         class_weights={0:0.32, 1:0.68},\n",
    "                         eval_metric='F1').fit(train_pool, silent=True)\n",
    "\n",
    "f1_score(y_val, ctb.predict(valid_pool))"
   ]
  },
  {
   "cell_type": "markdown",
   "metadata": {},
   "source": [
    "### Hyperparameter tuning"
   ]
  },
  {
   "cell_type": "code",
   "execution_count": 268,
   "metadata": {},
   "outputs": [
    {
     "name": "stderr",
     "output_type": "stream",
     "text": [
      "/home/sergei/Programms/anaconda3/lib/python3.7/site-packages/joblib/externals/loky/process_executor.py:706: UserWarning: A worker stopped while some jobs were given to the executor. This can be caused by a too short worker timeout or by a memory leak.\n",
      "  \"timeout or by a memory leak.\", UserWarning\n"
     ]
    }
   ],
   "source": [
    "ctb = CatBoostClassifier(iterations=800,\n",
    "                            learning_rate=0.05,\n",
    "                            depth=5,\n",
    "                            thread_count=-1,\n",
    "                            loss_function='Logloss',\n",
    "                            class_weights={0:0.3, 1:0.7},\n",
    "                            eval_metric='F1')\n",
    "\n",
    "model = GridSearchCV(ctb,\n",
    "                     param_grid={'iterations':[800, 900, 1000],\n",
    "                                 'depth':[6, 7, 8],\n",
    "                                 'class_weights':[{0:x, 1:(1-x)} for x in np.linspace(0.22, 0.32, 6)]},\n",
    "                     scoring='f1',\n",
    "                     cv=5,\n",
    "                     n_jobs=-1).fit(X_new, y_train, cat_features=[405, 406], silent=True)"
   ]
  },
  {
   "cell_type": "code",
   "execution_count": 271,
   "metadata": {},
   "outputs": [
    {
     "name": "stdout",
     "output_type": "stream",
     "text": [
      "{'class_weights': {0: 0.28, 1: 0.72}, 'depth': 7, 'iterations': 900}\n",
      "0.5946089337265947\n"
     ]
    }
   ],
   "source": [
    "print(model.best_params_)\n",
    "print(model.best_score_)"
   ]
  },
  {
   "cell_type": "markdown",
   "metadata": {},
   "source": [
    "### Evaluation on the test dataset"
   ]
  },
  {
   "cell_type": "code",
   "execution_count": 273,
   "metadata": {},
   "outputs": [
    {
     "data": {
      "text/plain": [
       "0.6171875000000001"
      ]
     },
     "execution_count": 273,
     "metadata": {},
     "output_type": "execute_result"
    }
   ],
   "source": [
    "evaluate_preds(model.best_estimator_.predict(test_pool))"
   ]
  },
  {
   "cell_type": "markdown",
   "metadata": {},
   "source": [
    "### Top 20 features"
   ]
  },
  {
   "cell_type": "code",
   "execution_count": 275,
   "metadata": {},
   "outputs": [
    {
     "data": {
      "text/html": [
       "<div>\n",
       "<style scoped>\n",
       "    .dataframe tbody tr th:only-of-type {\n",
       "        vertical-align: middle;\n",
       "    }\n",
       "\n",
       "    .dataframe tbody tr th {\n",
       "        vertical-align: top;\n",
       "    }\n",
       "\n",
       "    .dataframe thead th {\n",
       "        text-align: right;\n",
       "    }\n",
       "</style>\n",
       "<table border=\"1\" class=\"dataframe\">\n",
       "  <thead>\n",
       "    <tr style=\"text-align: right;\">\n",
       "      <th></th>\n",
       "      <th>Feature Id</th>\n",
       "      <th>Importances</th>\n",
       "    </tr>\n",
       "  </thead>\n",
       "  <tbody>\n",
       "    <tr>\n",
       "      <td>0</td>\n",
       "      <td>n_pages</td>\n",
       "      <td>18.040009</td>\n",
       "    </tr>\n",
       "    <tr>\n",
       "      <td>1</td>\n",
       "      <td>segment_name_UK_Owner_OSB vehicle info_all</td>\n",
       "      <td>10.213665</td>\n",
       "    </tr>\n",
       "    <tr>\n",
       "      <td>2</td>\n",
       "      <td>month</td>\n",
       "      <td>4.201613</td>\n",
       "    </tr>\n",
       "    <tr>\n",
       "      <td>3</td>\n",
       "      <td>event_ItemView</td>\n",
       "      <td>2.789447</td>\n",
       "    </tr>\n",
       "    <tr>\n",
       "      <td>4</td>\n",
       "      <td>hour</td>\n",
       "      <td>2.774897</td>\n",
       "    </tr>\n",
       "    <tr>\n",
       "      <td>5</td>\n",
       "      <td>n_sessions</td>\n",
       "      <td>2.592242</td>\n",
       "    </tr>\n",
       "    <tr>\n",
       "      <td>6</td>\n",
       "      <td>event_PageView</td>\n",
       "      <td>2.307444</td>\n",
       "    </tr>\n",
       "    <tr>\n",
       "      <td>7</td>\n",
       "      <td>conversion_pixel_ids_[]</td>\n",
       "      <td>2.133993</td>\n",
       "    </tr>\n",
       "    <tr>\n",
       "      <td>8</td>\n",
       "      <td>item_types_['brand:build:initiate']</td>\n",
       "      <td>2.105325</td>\n",
       "    </tr>\n",
       "    <tr>\n",
       "      <td>9</td>\n",
       "      <td>segment_name_Unknown/No Segment</td>\n",
       "      <td>1.982414</td>\n",
       "    </tr>\n",
       "    <tr>\n",
       "      <td>10</td>\n",
       "      <td>item_types_['brand:build:engine']</td>\n",
       "      <td>1.823018</td>\n",
       "    </tr>\n",
       "    <tr>\n",
       "      <td>11</td>\n",
       "      <td>segment_name_Ford Fiesta - All</td>\n",
       "      <td>1.543842</td>\n",
       "    </tr>\n",
       "    <tr>\n",
       "      <td>12</td>\n",
       "      <td>segment_name_UK_Shop_Build &amp; Price-Start_all</td>\n",
       "      <td>1.446040</td>\n",
       "    </tr>\n",
       "    <tr>\n",
       "      <td>13</td>\n",
       "      <td>item_types_['bp:select engine']</td>\n",
       "      <td>1.386309</td>\n",
       "    </tr>\n",
       "    <tr>\n",
       "      <td>14</td>\n",
       "      <td>conversion_pixel_ids_[1188214]</td>\n",
       "      <td>1.340255</td>\n",
       "    </tr>\n",
       "    <tr>\n",
       "      <td>15</td>\n",
       "      <td>item_types_['bp:select series']</td>\n",
       "      <td>1.337794</td>\n",
       "    </tr>\n",
       "    <tr>\n",
       "      <td>16</td>\n",
       "      <td>segment_name_UK_HP</td>\n",
       "      <td>1.263456</td>\n",
       "    </tr>\n",
       "    <tr>\n",
       "      <td>17</td>\n",
       "      <td>item_types_['vhp content:360:select colour']</td>\n",
       "      <td>1.251694</td>\n",
       "    </tr>\n",
       "    <tr>\n",
       "      <td>18</td>\n",
       "      <td>item_types_['brand:owner:my vehicle:service bo...</td>\n",
       "      <td>1.198410</td>\n",
       "    </tr>\n",
       "    <tr>\n",
       "      <td>19</td>\n",
       "      <td>item_types_['brand:build:vehicle summary']</td>\n",
       "      <td>1.124362</td>\n",
       "    </tr>\n",
       "  </tbody>\n",
       "</table>\n",
       "</div>"
      ],
      "text/plain": [
       "                                           Feature Id  Importances\n",
       "0                                             n_pages    18.040009\n",
       "1          segment_name_UK_Owner_OSB vehicle info_all    10.213665\n",
       "2                                               month     4.201613\n",
       "3                                      event_ItemView     2.789447\n",
       "4                                                hour     2.774897\n",
       "5                                          n_sessions     2.592242\n",
       "6                                      event_PageView     2.307444\n",
       "7                             conversion_pixel_ids_[]     2.133993\n",
       "8                 item_types_['brand:build:initiate']     2.105325\n",
       "9                     segment_name_Unknown/No Segment     1.982414\n",
       "10                  item_types_['brand:build:engine']     1.823018\n",
       "11                     segment_name_Ford Fiesta - All     1.543842\n",
       "12       segment_name_UK_Shop_Build & Price-Start_all     1.446040\n",
       "13                    item_types_['bp:select engine']     1.386309\n",
       "14                     conversion_pixel_ids_[1188214]     1.340255\n",
       "15                    item_types_['bp:select series']     1.337794\n",
       "16                                 segment_name_UK_HP     1.263456\n",
       "17       item_types_['vhp content:360:select colour']     1.251694\n",
       "18  item_types_['brand:owner:my vehicle:service bo...     1.198410\n",
       "19         item_types_['brand:build:vehicle summary']     1.124362"
      ]
     },
     "execution_count": 275,
     "metadata": {},
     "output_type": "execute_result"
    }
   ],
   "source": [
    "model.best_estimator_.get_feature_importance(prettified=True).iloc[:20]"
   ]
  },
  {
   "cell_type": "code",
   "execution_count": null,
   "metadata": {},
   "outputs": [],
   "source": []
  }
 ],
 "metadata": {
  "kernelspec": {
   "display_name": "Python 3",
   "language": "python",
   "name": "python3"
  },
  "language_info": {
   "codemirror_mode": {
    "name": "ipython",
    "version": 3
   },
   "file_extension": ".py",
   "mimetype": "text/x-python",
   "name": "python",
   "nbconvert_exporter": "python",
   "pygments_lexer": "ipython3",
   "version": "3.7.4"
  }
 },
 "nbformat": 4,
 "nbformat_minor": 2
}
