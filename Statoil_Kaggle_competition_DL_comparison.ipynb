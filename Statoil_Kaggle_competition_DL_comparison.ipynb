{
 "cells": [
  {
   "cell_type": "markdown",
   "metadata": {
    "colab_type": "text",
    "id": "j7i3C4f7f9_B"
   },
   "source": [
    "# <center>Statoil Kaggle competition. Part 3.</center>\n",
    "## <center>Comparison of different Deep Learning models</center>\n",
    "\n",
    "Models' weights have several hundred of MB size sometimes. Since I trained Deep Learning models on Google Colab website, this comparison was also created and executed there."
   ]
  },
  {
   "cell_type": "code",
   "execution_count": 1,
   "metadata": {
    "colab": {},
    "colab_type": "code",
    "executionInfo": {
     "elapsed": 893,
     "status": "ok",
     "timestamp": 1592401163451,
     "user": {
      "displayName": "Маркочев Сергей",
      "photoUrl": "",
      "userId": "14466170977456271212"
     },
     "user_tz": -60
    },
    "id": "euHLJQ8Yf69A"
   },
   "outputs": [],
   "source": [
    "%reload_ext autoreload\n",
    "%autoreload 2\n",
    "%matplotlib inline"
   ]
  },
  {
   "cell_type": "code",
   "execution_count": 2,
   "metadata": {
    "colab": {},
    "colab_type": "code",
    "executionInfo": {
     "elapsed": 2383,
     "status": "ok",
     "timestamp": 1592404495792,
     "user": {
      "displayName": "Маркочев Сергей",
      "photoUrl": "",
      "userId": "14466170977456271212"
     },
     "user_tz": -60
    },
    "id": "mSWaBIZcf_MU"
   },
   "outputs": [],
   "source": [
    "from fastai.vision import *\n",
    "from fastai.metrics import error_rate\n",
    "\n",
    "bs = 64  # batch size"
   ]
  },
  {
   "cell_type": "code",
   "execution_count": 3,
   "metadata": {
    "colab": {
     "base_uri": "https://localhost:8080/",
     "height": 122
    },
    "colab_type": "code",
    "executionInfo": {
     "elapsed": 31378,
     "status": "ok",
     "timestamp": 1592401193951,
     "user": {
      "displayName": "Маркочев Сергей",
      "photoUrl": "",
      "userId": "14466170977456271212"
     },
     "user_tz": -60
    },
    "id": "5rkPH81igIeM",
    "outputId": "07438bc8-41e6-4f6e-8554-3ae5d2bcad93"
   },
   "outputs": [],
   "source": [
    "from google.colab import drive\n",
    "drive.mount('/content/drive')"
   ]
  },
  {
   "cell_type": "markdown",
   "metadata": {
    "colab_type": "text",
    "id": "iGxJhq7ig_iE"
   },
   "source": [
    "### Copy train data and models from Google Drive"
   ]
  },
  {
   "cell_type": "code",
   "execution_count": null,
   "metadata": {
    "colab": {},
    "colab_type": "code",
    "id": "yc3U5bvngLMk"
   },
   "outputs": [],
   "source": [
    "# competition folder\n",
    "!mkdir sample_data/statoil\n",
    "\n",
    "!cp ../content/drive/'My Drive'/train.zip sample_data/statoil\n",
    "!cp ../content/drive/'My Drive'/train_pseudo.zip sample_data/statoil\n",
    "\n",
    "!unzip sample_data/statoil/train.zip -d sample_data/statoil/\n",
    "!unzip sample_data/statoil/train_pseudo.zip -d sample_data/statoil/\n",
    "\n",
    "# copy pseudo labeled images from the test dataset to the train folder\n",
    "!cp sample_data/statoil/train_pseudo/band_1/*.jpg sample_data/statoil/train/band_1\n",
    "!cp sample_data/statoil/train_pseudo/band_2/*.jpg sample_data/statoil/train/band_2"
   ]
  },
  {
   "cell_type": "code",
   "execution_count": 13,
   "metadata": {
    "colab": {},
    "colab_type": "code",
    "executionInfo": {
     "elapsed": 67031,
     "status": "ok",
     "timestamp": 1592401976875,
     "user": {
      "displayName": "Маркочев Сергей",
      "photoUrl": "",
      "userId": "14466170977456271212"
     },
     "user_tz": -60
    },
    "id": "B4gwufr_hfCk"
   },
   "outputs": [],
   "source": [
    "!mkdir sample_data/statoil/train/band_1/models\n",
    "!mkdir sample_data/statoil/train/band_2/models\n",
    "\n",
    "# copy models from Google Drive\n",
    "!cp ../content/drive/'My Drive'/*-band-1.pth sample_data/statoil/train/band_1/models\n",
    "!cp ../content/drive/'My Drive'/*-band-2.pth sample_data/statoil/train/band_2/models"
   ]
  },
  {
   "cell_type": "code",
   "execution_count": 7,
   "metadata": {
    "colab": {
     "base_uri": "https://localhost:8080/",
     "height": 34
    },
    "colab_type": "code",
    "executionInfo": {
     "elapsed": 1969,
     "status": "ok",
     "timestamp": 1592401397305,
     "user": {
      "displayName": "Маркочев Сергей",
      "photoUrl": "",
      "userId": "14466170977456271212"
     },
     "user_tz": -60
    },
    "id": "g4uk0HxvhLsp",
    "outputId": "a643cbdf-0604-4955-c349-fa8088f67b87"
   },
   "outputs": [
    {
     "name": "stdout",
     "output_type": "stream",
     "text": [
      "3305\n"
     ]
    }
   ],
   "source": [
    "def get_path(is_train, band_name):\n",
    "    return 'sample_data/statoil/{}/{}/'.format('train' if is_train else 'test', band_name)\n",
    "\n",
    "fnames = get_image_files(get_path(True, 'band_1'))\n",
    "print(len(fnames))"
   ]
  },
  {
   "cell_type": "markdown",
   "metadata": {
    "colab_type": "text",
    "id": "XMaGPleqhWTK"
   },
   "source": [
    "### Check models trained on band-1 data"
   ]
  },
  {
   "cell_type": "code",
   "execution_count": 14,
   "metadata": {
    "colab": {
     "base_uri": "https://localhost:8080/",
     "height": 51
    },
    "colab_type": "code",
    "executionInfo": {
     "elapsed": 6182,
     "status": "ok",
     "timestamp": 1592402018037,
     "user": {
      "displayName": "Маркочев Сергей",
      "photoUrl": "",
      "userId": "14466170977456271212"
     },
     "user_tz": -60
    },
    "id": "bA0HQUaMjfbE",
    "outputId": "4e1de29c-e066-4f8e-c08f-a8d263f3df6a"
   },
   "outputs": [
    {
     "name": "stdout",
     "output_type": "stream",
     "text": [
      ".   resnet101-band-1.pth  resnet50-band-1.pth\n",
      "..  resnet34-band-1.pth   vgg19-band-1.pth\n"
     ]
    }
   ],
   "source": [
    "# Models available\n",
    "!ls -a sample_data/statoil/train/band_1/models"
   ]
  },
  {
   "cell_type": "code",
   "execution_count": 8,
   "metadata": {
    "colab": {
     "base_uri": "https://localhost:8080/",
     "height": 34
    },
    "colab_type": "code",
    "executionInfo": {
     "elapsed": 12861,
     "status": "ok",
     "timestamp": 1592401424631,
     "user": {
      "displayName": "Маркочев Сергей",
      "photoUrl": "",
      "userId": "14466170977456271212"
     },
     "user_tz": -60
    },
    "id": "8i2XZwqbg7oG",
    "outputId": "7e173dfc-6fe5-4b5f-d37a-0f97daeb29fd"
   },
   "outputs": [
    {
     "data": {
      "text/plain": [
       "2"
      ]
     },
     "execution_count": 8,
     "metadata": {
      "tags": []
     },
     "output_type": "execute_result"
    }
   ],
   "source": [
    "np.random.seed(2)\n",
    "pat = r'/(\\d)_[^/]+.jpg$'  # pattern for is_iceberg labels (0 or 1 at the beginning of a filename)\n",
    "\n",
    "data = ImageDataBunch.from_name_re(get_path(True, 'band_1'),\n",
    "                                   fnames,\n",
    "                                   pat,\n",
    "                                   ds_tfms=get_transforms(flip_vert=True, max_rotate=30., max_zoom=1.1),\n",
    "                                   size=74,\n",
    "                                   bs=bs).normalize()\n",
    "# check number of classes\n",
    "data.c"
   ]
  },
  {
   "cell_type": "code",
   "execution_count": 31,
   "metadata": {
    "colab": {
     "base_uri": "https://localhost:8080/",
     "height": 17
    },
    "colab_type": "code",
    "executionInfo": {
     "elapsed": 12640,
     "status": "ok",
     "timestamp": 1592403986535,
     "user": {
      "displayName": "Маркочев Сергей",
      "photoUrl": "",
      "userId": "14466170977456271212"
     },
     "user_tz": -60
    },
    "id": "5HP95SKZhT59",
    "outputId": "85676df8-6765-4c16-99cb-24aa05506119"
   },
   "outputs": [
    {
     "data": {
      "text/html": [],
      "text/plain": [
       "<IPython.core.display.HTML object>"
      ]
     },
     "metadata": {
      "tags": []
     },
     "output_type": "display_data"
    },
    {
     "data": {
      "text/html": [],
      "text/plain": [
       "<IPython.core.display.HTML object>"
      ]
     },
     "metadata": {
      "tags": []
     },
     "output_type": "display_data"
    },
    {
     "data": {
      "text/html": [],
      "text/plain": [
       "<IPython.core.display.HTML object>"
      ]
     },
     "metadata": {
      "tags": []
     },
     "output_type": "display_data"
    },
    {
     "data": {
      "text/html": [],
      "text/plain": [
       "<IPython.core.display.HTML object>"
      ]
     },
     "metadata": {
      "tags": []
     },
     "output_type": "display_data"
    }
   ],
   "source": [
    "# download a model structure\n",
    "vgg19 = cnn_learner(data, models.vgg19_bn, metrics=error_rate)\n",
    "\n",
    "# load pretrained model weights\n",
    "vgg19.load('vgg19-band-1')\n",
    "\n",
    "# calculate confusion matrix\n",
    "vgg19 = ClassificationInterpretation.from_learner(vgg19).confusion_matrix()\n",
    "\n",
    "# the same for other models\n",
    "resnet34 = cnn_learner(data, models.resnet34, metrics=error_rate)\n",
    "resnet34.load('resnet34-band-1')\n",
    "resnet34 = ClassificationInterpretation.from_learner(resnet34).confusion_matrix()\n",
    "\n",
    "resnet50 = cnn_learner(data, models.resnet50, metrics=error_rate)\n",
    "resnet50.load('resnet50-band-1')\n",
    "resnet50 = ClassificationInterpretation.from_learner(resnet50).confusion_matrix()\n",
    "\n",
    "resnet101 = cnn_learner(data, models.resnet101, metrics=error_rate)\n",
    "resnet101.load('resnet101-band-1')\n",
    "resnet101 = ClassificationInterpretation.from_learner(resnet101).confusion_matrix()"
   ]
  },
  {
   "cell_type": "code",
   "execution_count": 33,
   "metadata": {
    "colab": {},
    "colab_type": "code",
    "executionInfo": {
     "elapsed": 588,
     "status": "ok",
     "timestamp": 1592404152876,
     "user": {
      "displayName": "Маркочев Сергей",
      "photoUrl": "",
      "userId": "14466170977456271212"
     },
     "user_tz": -60
    },
    "id": "OZ-xcMkjmW77"
   },
   "outputs": [],
   "source": [
    "# produce a dataframe with results\n",
    "\n",
    "models = ['vgg19', 'resnet34', 'resnet50', 'resnet101']\n",
    "accuracy = []\n",
    "precision = []\n",
    "recall = []\n",
    "\n",
    "for cm in [vgg19, resnet34, resnet50, resnet101]:\n",
    "    accuracy.append(cm.trace() / cm.sum())\n",
    "    precision.append(cm[1][1] / (cm[1][1] + cm[0][1]))\n",
    "    recall.append(cm[1][1] / (cm[1][1] + cm[1][0]))"
   ]
  },
  {
   "cell_type": "code",
   "execution_count": 34,
   "metadata": {
    "colab": {
     "base_uri": "https://localhost:8080/",
     "height": 173
    },
    "colab_type": "code",
    "executionInfo": {
     "elapsed": 1124,
     "status": "ok",
     "timestamp": 1592404240618,
     "user": {
      "displayName": "Маркочев Сергей",
      "photoUrl": "",
      "userId": "14466170977456271212"
     },
     "user_tz": -60
    },
    "id": "4BkoLpV3mbSk",
    "outputId": "82607c9d-e31b-45c4-a7c7-10ed3ee82257"
   },
   "outputs": [
    {
     "data": {
      "text/html": [
       "<div>\n",
       "<style scoped>\n",
       "    .dataframe tbody tr th:only-of-type {\n",
       "        vertical-align: middle;\n",
       "    }\n",
       "\n",
       "    .dataframe tbody tr th {\n",
       "        vertical-align: top;\n",
       "    }\n",
       "\n",
       "    .dataframe thead th {\n",
       "        text-align: right;\n",
       "    }\n",
       "</style>\n",
       "<table border=\"1\" class=\"dataframe\">\n",
       "  <thead>\n",
       "    <tr style=\"text-align: right;\">\n",
       "      <th></th>\n",
       "      <th>model</th>\n",
       "      <th>accuracy</th>\n",
       "      <th>precision</th>\n",
       "      <th>recall</th>\n",
       "    </tr>\n",
       "  </thead>\n",
       "  <tbody>\n",
       "    <tr>\n",
       "      <th>0</th>\n",
       "      <td>vgg19</td>\n",
       "      <td>0.922844</td>\n",
       "      <td>0.936909</td>\n",
       "      <td>0.905488</td>\n",
       "    </tr>\n",
       "    <tr>\n",
       "      <th>1</th>\n",
       "      <td>resnet34</td>\n",
       "      <td>0.927383</td>\n",
       "      <td>0.932099</td>\n",
       "      <td>0.920732</td>\n",
       "    </tr>\n",
       "    <tr>\n",
       "      <th>2</th>\n",
       "      <td>resnet50</td>\n",
       "      <td>0.922844</td>\n",
       "      <td>0.910979</td>\n",
       "      <td>0.935976</td>\n",
       "    </tr>\n",
       "    <tr>\n",
       "      <th>3</th>\n",
       "      <td>resnet101</td>\n",
       "      <td>0.901664</td>\n",
       "      <td>0.887906</td>\n",
       "      <td>0.917683</td>\n",
       "    </tr>\n",
       "  </tbody>\n",
       "</table>\n",
       "</div>"
      ],
      "text/plain": [
       "       model  accuracy  precision    recall\n",
       "0      vgg19  0.922844   0.936909  0.905488\n",
       "1   resnet34  0.927383   0.932099  0.920732\n",
       "2   resnet50  0.922844   0.910979  0.935976\n",
       "3  resnet101  0.901664   0.887906  0.917683"
      ]
     },
     "execution_count": 34,
     "metadata": {
      "tags": []
     },
     "output_type": "execute_result"
    }
   ],
   "source": [
    "# show results\n",
    "\n",
    "(pd.DataFrame()\n",
    " .assign(model = models,\n",
    "         accuracy = accuracy,\n",
    "         precision = precision,\n",
    "         recall = recall)\n",
    ")"
   ]
  },
  {
   "cell_type": "markdown",
   "metadata": {
    "colab_type": "text",
    "id": "ubGFJ0V6siMN"
   },
   "source": [
    "### Check models trained on band-2 data"
   ]
  },
  {
   "cell_type": "code",
   "execution_count": 35,
   "metadata": {
    "colab": {
     "base_uri": "https://localhost:8080/",
     "height": 51
    },
    "colab_type": "code",
    "executionInfo": {
     "elapsed": 6657,
     "status": "ok",
     "timestamp": 1592404396473,
     "user": {
      "displayName": "Маркочев Сергей",
      "photoUrl": "",
      "userId": "14466170977456271212"
     },
     "user_tz": -60
    },
    "id": "meWx0canm8He",
    "outputId": "3eac9fc1-b971-4410-df08-8829273e9840"
   },
   "outputs": [
    {
     "name": "stdout",
     "output_type": "stream",
     "text": [
      ".   resnet34-band-2.pth  vgg16-band-2.pth\n",
      "..  resnet50-band-2.pth  vgg19-band-2.pth\n"
     ]
    }
   ],
   "source": [
    "# Models available\n",
    "!ls -a sample_data/statoil/train/band_2/models"
   ]
  },
  {
   "cell_type": "code",
   "execution_count": 36,
   "metadata": {
    "colab": {
     "base_uri": "https://localhost:8080/",
     "height": 34
    },
    "colab_type": "code",
    "executionInfo": {
     "elapsed": 1313,
     "status": "ok",
     "timestamp": 1592404410953,
     "user": {
      "displayName": "Маркочев Сергей",
      "photoUrl": "",
      "userId": "14466170977456271212"
     },
     "user_tz": -60
    },
    "id": "LyEDW7wasq4d",
    "outputId": "4588a7f4-a087-4c36-d1f7-ed43b9eb2dae"
   },
   "outputs": [
    {
     "data": {
      "text/plain": [
       "2"
      ]
     },
     "execution_count": 36,
     "metadata": {
      "tags": []
     },
     "output_type": "execute_result"
    }
   ],
   "source": [
    "np.random.seed(2)\n",
    "pat = r'/(\\d)_[^/]+.jpg$'  # pattern for is_iceberg labels (0 or 1 at the beginning of a filename)\n",
    "\n",
    "data = ImageDataBunch.from_name_re(get_path(True, 'band_2'),\n",
    "                                   fnames,\n",
    "                                   pat,\n",
    "                                   ds_tfms=get_transforms(flip_vert=True, max_rotate=30., max_zoom=1.1),\n",
    "                                   size=74,\n",
    "                                   bs=bs).normalize()\n",
    "# check number of classes\n",
    "data.c"
   ]
  },
  {
   "cell_type": "code",
   "execution_count": 39,
   "metadata": {
    "colab": {
     "base_uri": "https://localhost:8080/",
     "height": 83,
     "referenced_widgets": [
      "189dd3a98c434bd29e140b103cf349f8",
      "bfe3c8e8972d43e0aa55728846ea62e6",
      "5b27c63f4a3d48d8ab91035bd7c39bf7",
      "dca349e891b046aca0638e4f9672af25",
      "32ee58aad81e4c3e9fab09d59b7cd660",
      "c17a225a39b64c3593a73375ce430e81",
      "d731cc804e8e4d349e660d3eb7896ea4",
      "f9b41b7bd1fd4e9ba71ffcea019b024c"
     ]
    },
    "colab_type": "code",
    "executionInfo": {
     "elapsed": 35863,
     "status": "ok",
     "timestamp": 1592404536640,
     "user": {
      "displayName": "Маркочев Сергей",
      "photoUrl": "",
      "userId": "14466170977456271212"
     },
     "user_tz": -60
    },
    "id": "G_tfLDutsvz0",
    "outputId": "3d88a8f1-ee0a-4ed7-db02-a1b60c653521"
   },
   "outputs": [
    {
     "name": "stderr",
     "output_type": "stream",
     "text": [
      "Downloading: \"https://download.pytorch.org/models/vgg16_bn-6c64b313.pth\" to /root/.cache/torch/checkpoints/vgg16_bn-6c64b313.pth\n"
     ]
    },
    {
     "data": {
      "application/vnd.jupyter.widget-view+json": {
       "model_id": "189dd3a98c434bd29e140b103cf349f8",
       "version_major": 2,
       "version_minor": 0
      },
      "text/plain": [
       "HBox(children=(FloatProgress(value=0.0, max=553507836.0), HTML(value='')))"
      ]
     },
     "metadata": {
      "tags": []
     },
     "output_type": "display_data"
    },
    {
     "name": "stdout",
     "output_type": "stream",
     "text": [
      "\n"
     ]
    },
    {
     "data": {
      "text/html": [],
      "text/plain": [
       "<IPython.core.display.HTML object>"
      ]
     },
     "metadata": {
      "tags": []
     },
     "output_type": "display_data"
    },
    {
     "data": {
      "text/html": [],
      "text/plain": [
       "<IPython.core.display.HTML object>"
      ]
     },
     "metadata": {
      "tags": []
     },
     "output_type": "display_data"
    },
    {
     "data": {
      "text/html": [],
      "text/plain": [
       "<IPython.core.display.HTML object>"
      ]
     },
     "metadata": {
      "tags": []
     },
     "output_type": "display_data"
    },
    {
     "data": {
      "text/html": [],
      "text/plain": [
       "<IPython.core.display.HTML object>"
      ]
     },
     "metadata": {
      "tags": []
     },
     "output_type": "display_data"
    }
   ],
   "source": [
    "# same as for band-1, but a bit different set of models\n",
    "\n",
    "vgg16 = cnn_learner(data, models.vgg16_bn, metrics=error_rate)\n",
    "vgg16.load('vgg16-band-2')\n",
    "vgg16 = ClassificationInterpretation.from_learner(vgg16).confusion_matrix()\n",
    "\n",
    "vgg19 = cnn_learner(data, models.vgg19_bn, metrics=error_rate)\n",
    "vgg19.load('vgg19-band-2')\n",
    "vgg19 = ClassificationInterpretation.from_learner(vgg19).confusion_matrix()\n",
    "\n",
    "resnet34 = cnn_learner(data, models.resnet34, metrics=error_rate)\n",
    "resnet34.load('resnet34-band-2')\n",
    "resnet34 = ClassificationInterpretation.from_learner(resnet34).confusion_matrix()\n",
    "\n",
    "resnet50 = cnn_learner(data, models.resnet50, metrics=error_rate)\n",
    "resnet50.load('resnet50-band-2')\n",
    "resnet50 = ClassificationInterpretation.from_learner(resnet50).confusion_matrix()"
   ]
  },
  {
   "cell_type": "code",
   "execution_count": 40,
   "metadata": {
    "colab": {},
    "colab_type": "code",
    "executionInfo": {
     "elapsed": 1668,
     "status": "ok",
     "timestamp": 1592404542328,
     "user": {
      "displayName": "Маркочев Сергей",
      "photoUrl": "",
      "userId": "14466170977456271212"
     },
     "user_tz": -60
    },
    "id": "s2SsafiJs7tQ"
   },
   "outputs": [],
   "source": [
    "# produce a dataframe with results\n",
    "\n",
    "models = ['vgg_16', 'vgg19', 'resnet34', 'resnet50']\n",
    "accuracy = []\n",
    "precision = []\n",
    "recall = []\n",
    "\n",
    "for cm in [vgg16, vgg19, resnet34, resnet50]:\n",
    "  accuracy.append(cm.trace() / cm.sum())\n",
    "  precision.append(cm[1][1] / (cm[1][1] + cm[0][1]))\n",
    "  recall.append(cm[1][1] / (cm[1][1] + cm[1][0]))"
   ]
  },
  {
   "cell_type": "code",
   "execution_count": 41,
   "metadata": {
    "colab": {
     "base_uri": "https://localhost:8080/",
     "height": 173
    },
    "colab_type": "code",
    "executionInfo": {
     "elapsed": 969,
     "status": "ok",
     "timestamp": 1592404555939,
     "user": {
      "displayName": "Маркочев Сергей",
      "photoUrl": "",
      "userId": "14466170977456271212"
     },
     "user_tz": -60
    },
    "id": "UGrtvasitPy1",
    "outputId": "6c44d8c8-15e1-47fa-acd4-c524abcc1467"
   },
   "outputs": [
    {
     "data": {
      "text/html": [
       "<div>\n",
       "<style scoped>\n",
       "    .dataframe tbody tr th:only-of-type {\n",
       "        vertical-align: middle;\n",
       "    }\n",
       "\n",
       "    .dataframe tbody tr th {\n",
       "        vertical-align: top;\n",
       "    }\n",
       "\n",
       "    .dataframe thead th {\n",
       "        text-align: right;\n",
       "    }\n",
       "</style>\n",
       "<table border=\"1\" class=\"dataframe\">\n",
       "  <thead>\n",
       "    <tr style=\"text-align: right;\">\n",
       "      <th></th>\n",
       "      <th>model</th>\n",
       "      <th>accuracy</th>\n",
       "      <th>precision</th>\n",
       "      <th>recall</th>\n",
       "    </tr>\n",
       "  </thead>\n",
       "  <tbody>\n",
       "    <tr>\n",
       "      <th>0</th>\n",
       "      <td>vgg_16</td>\n",
       "      <td>0.698941</td>\n",
       "      <td>0.951049</td>\n",
       "      <td>0.414634</td>\n",
       "    </tr>\n",
       "    <tr>\n",
       "      <th>1</th>\n",
       "      <td>vgg19</td>\n",
       "      <td>0.720121</td>\n",
       "      <td>0.967320</td>\n",
       "      <td>0.451220</td>\n",
       "    </tr>\n",
       "    <tr>\n",
       "      <th>2</th>\n",
       "      <td>resnet34</td>\n",
       "      <td>0.767020</td>\n",
       "      <td>0.953125</td>\n",
       "      <td>0.557927</td>\n",
       "    </tr>\n",
       "    <tr>\n",
       "      <th>3</th>\n",
       "      <td>resnet50</td>\n",
       "      <td>0.724660</td>\n",
       "      <td>0.939759</td>\n",
       "      <td>0.475610</td>\n",
       "    </tr>\n",
       "  </tbody>\n",
       "</table>\n",
       "</div>"
      ],
      "text/plain": [
       "      model  accuracy  precision    recall\n",
       "0    vgg_16  0.698941   0.951049  0.414634\n",
       "1     vgg19  0.720121   0.967320  0.451220\n",
       "2  resnet34  0.767020   0.953125  0.557927\n",
       "3  resnet50  0.724660   0.939759  0.475610"
      ]
     },
     "execution_count": 41,
     "metadata": {
      "tags": []
     },
     "output_type": "execute_result"
    }
   ],
   "source": [
    "# show results\n",
    "\n",
    "(pd.DataFrame()\n",
    " .assign(model = models,\n",
    "         accuracy = accuracy,\n",
    "         precision = precision,\n",
    "         recall = recall)\n",
    ")"
   ]
  },
  {
   "cell_type": "markdown",
   "metadata": {},
   "source": [
    "## Conclusion\n",
    "\n",
    "All metrics for Band-1 and Band-2 images were calculated on the training dataset including pseudo labelled images from the test dataset.\n",
    "\n",
    "On Band-1 images all four models showed similar results in terms of Precision and Recall. Best model on accuracy score - Resnet34, on Precision - VGG19 and on Recall - ResNet50.\n",
    "\n",
    "On Band-2 images models behave differently. While Precision showed by models is abound 0.95, Recall is only about 0.45. Final accuracy therefore is only about 0.72. Best model on accuracy and recall scores - ResNet34, on precision - VGG19.\n",
    "\n",
    "### <center>Band 1 results</center>\n",
    "\n",
    " | Model | Accuracy | Precision | Recall |\n",
    " |-------|----------|-----------|--------|\n",
    " | VGG19 | 0.923 | 0.937 | 0.905 |\n",
    " | ResNet34 | 0.927 | 0.932 | 0.921 |\n",
    " | ResNet50 | 0.923 | 0.911 | 0.936 |\n",
    " | ResNet101 | 0.902 | 0.888 | 0.918 |\n",
    " \n",
    "### <center>Band 2 results</center>\n",
    "\n",
    " | Model | Accuracy | Precision | Recall |\n",
    " |-------|----------|-----------|--------|\n",
    " | VGG16 | 0.699 | 0.951 | 0.415 |\n",
    " | VGG19 | 0.720 | 0.967 | 0.451 |\n",
    " | ResNet34 | 0.767 | 0.953 | 0.558 |\n",
    " | ResNet50 | 0.725 | 0.940 | 0.476 |"
   ]
  },
  {
   "cell_type": "code",
   "execution_count": null,
   "metadata": {},
   "outputs": [],
   "source": []
  }
 ],
 "metadata": {
  "accelerator": "GPU",
  "colab": {
   "authorship_tag": "ABX9TyO9qinCdio6WvY3wv39xnfY",
   "name": "Comparison of different deep learning models.ipynb",
   "provenance": []
  },
  "kernelspec": {
   "display_name": "Python 3",
   "language": "python",
   "name": "python3"
  },
  "language_info": {
   "codemirror_mode": {
    "name": "ipython",
    "version": 3
   },
   "file_extension": ".py",
   "mimetype": "text/x-python",
   "name": "python",
   "nbconvert_exporter": "python",
   "pygments_lexer": "ipython3",
   "version": "3.7.4"
  },
  "widgets": {
   "application/vnd.jupyter.widget-state+json": {
    "189dd3a98c434bd29e140b103cf349f8": {
     "model_module": "@jupyter-widgets/controls",
     "model_name": "HBoxModel",
     "state": {
      "_dom_classes": [],
      "_model_module": "@jupyter-widgets/controls",
      "_model_module_version": "1.5.0",
      "_model_name": "HBoxModel",
      "_view_count": null,
      "_view_module": "@jupyter-widgets/controls",
      "_view_module_version": "1.5.0",
      "_view_name": "HBoxView",
      "box_style": "",
      "children": [
       "IPY_MODEL_5b27c63f4a3d48d8ab91035bd7c39bf7",
       "IPY_MODEL_dca349e891b046aca0638e4f9672af25"
      ],
      "layout": "IPY_MODEL_bfe3c8e8972d43e0aa55728846ea62e6"
     }
    },
    "32ee58aad81e4c3e9fab09d59b7cd660": {
     "model_module": "@jupyter-widgets/controls",
     "model_name": "ProgressStyleModel",
     "state": {
      "_model_module": "@jupyter-widgets/controls",
      "_model_module_version": "1.5.0",
      "_model_name": "ProgressStyleModel",
      "_view_count": null,
      "_view_module": "@jupyter-widgets/base",
      "_view_module_version": "1.2.0",
      "_view_name": "StyleView",
      "bar_color": null,
      "description_width": "initial"
     }
    },
    "5b27c63f4a3d48d8ab91035bd7c39bf7": {
     "model_module": "@jupyter-widgets/controls",
     "model_name": "FloatProgressModel",
     "state": {
      "_dom_classes": [],
      "_model_module": "@jupyter-widgets/controls",
      "_model_module_version": "1.5.0",
      "_model_name": "FloatProgressModel",
      "_view_count": null,
      "_view_module": "@jupyter-widgets/controls",
      "_view_module_version": "1.5.0",
      "_view_name": "ProgressView",
      "bar_style": "success",
      "description": "100%",
      "description_tooltip": null,
      "layout": "IPY_MODEL_c17a225a39b64c3593a73375ce430e81",
      "max": 553507836,
      "min": 0,
      "orientation": "horizontal",
      "style": "IPY_MODEL_32ee58aad81e4c3e9fab09d59b7cd660",
      "value": 553507836
     }
    },
    "bfe3c8e8972d43e0aa55728846ea62e6": {
     "model_module": "@jupyter-widgets/base",
     "model_name": "LayoutModel",
     "state": {
      "_model_module": "@jupyter-widgets/base",
      "_model_module_version": "1.2.0",
      "_model_name": "LayoutModel",
      "_view_count": null,
      "_view_module": "@jupyter-widgets/base",
      "_view_module_version": "1.2.0",
      "_view_name": "LayoutView",
      "align_content": null,
      "align_items": null,
      "align_self": null,
      "border": null,
      "bottom": null,
      "display": null,
      "flex": null,
      "flex_flow": null,
      "grid_area": null,
      "grid_auto_columns": null,
      "grid_auto_flow": null,
      "grid_auto_rows": null,
      "grid_column": null,
      "grid_gap": null,
      "grid_row": null,
      "grid_template_areas": null,
      "grid_template_columns": null,
      "grid_template_rows": null,
      "height": null,
      "justify_content": null,
      "justify_items": null,
      "left": null,
      "margin": null,
      "max_height": null,
      "max_width": null,
      "min_height": null,
      "min_width": null,
      "object_fit": null,
      "object_position": null,
      "order": null,
      "overflow": null,
      "overflow_x": null,
      "overflow_y": null,
      "padding": null,
      "right": null,
      "top": null,
      "visibility": null,
      "width": null
     }
    },
    "c17a225a39b64c3593a73375ce430e81": {
     "model_module": "@jupyter-widgets/base",
     "model_name": "LayoutModel",
     "state": {
      "_model_module": "@jupyter-widgets/base",
      "_model_module_version": "1.2.0",
      "_model_name": "LayoutModel",
      "_view_count": null,
      "_view_module": "@jupyter-widgets/base",
      "_view_module_version": "1.2.0",
      "_view_name": "LayoutView",
      "align_content": null,
      "align_items": null,
      "align_self": null,
      "border": null,
      "bottom": null,
      "display": null,
      "flex": null,
      "flex_flow": null,
      "grid_area": null,
      "grid_auto_columns": null,
      "grid_auto_flow": null,
      "grid_auto_rows": null,
      "grid_column": null,
      "grid_gap": null,
      "grid_row": null,
      "grid_template_areas": null,
      "grid_template_columns": null,
      "grid_template_rows": null,
      "height": null,
      "justify_content": null,
      "justify_items": null,
      "left": null,
      "margin": null,
      "max_height": null,
      "max_width": null,
      "min_height": null,
      "min_width": null,
      "object_fit": null,
      "object_position": null,
      "order": null,
      "overflow": null,
      "overflow_x": null,
      "overflow_y": null,
      "padding": null,
      "right": null,
      "top": null,
      "visibility": null,
      "width": null
     }
    },
    "d731cc804e8e4d349e660d3eb7896ea4": {
     "model_module": "@jupyter-widgets/controls",
     "model_name": "DescriptionStyleModel",
     "state": {
      "_model_module": "@jupyter-widgets/controls",
      "_model_module_version": "1.5.0",
      "_model_name": "DescriptionStyleModel",
      "_view_count": null,
      "_view_module": "@jupyter-widgets/base",
      "_view_module_version": "1.2.0",
      "_view_name": "StyleView",
      "description_width": ""
     }
    },
    "dca349e891b046aca0638e4f9672af25": {
     "model_module": "@jupyter-widgets/controls",
     "model_name": "HTMLModel",
     "state": {
      "_dom_classes": [],
      "_model_module": "@jupyter-widgets/controls",
      "_model_module_version": "1.5.0",
      "_model_name": "HTMLModel",
      "_view_count": null,
      "_view_module": "@jupyter-widgets/controls",
      "_view_module_version": "1.5.0",
      "_view_name": "HTMLView",
      "description": "",
      "description_tooltip": null,
      "layout": "IPY_MODEL_f9b41b7bd1fd4e9ba71ffcea019b024c",
      "placeholder": "​",
      "style": "IPY_MODEL_d731cc804e8e4d349e660d3eb7896ea4",
      "value": " 528M/528M [00:09&lt;00:00, 56.9MB/s]"
     }
    },
    "f9b41b7bd1fd4e9ba71ffcea019b024c": {
     "model_module": "@jupyter-widgets/base",
     "model_name": "LayoutModel",
     "state": {
      "_model_module": "@jupyter-widgets/base",
      "_model_module_version": "1.2.0",
      "_model_name": "LayoutModel",
      "_view_count": null,
      "_view_module": "@jupyter-widgets/base",
      "_view_module_version": "1.2.0",
      "_view_name": "LayoutView",
      "align_content": null,
      "align_items": null,
      "align_self": null,
      "border": null,
      "bottom": null,
      "display": null,
      "flex": null,
      "flex_flow": null,
      "grid_area": null,
      "grid_auto_columns": null,
      "grid_auto_flow": null,
      "grid_auto_rows": null,
      "grid_column": null,
      "grid_gap": null,
      "grid_row": null,
      "grid_template_areas": null,
      "grid_template_columns": null,
      "grid_template_rows": null,
      "height": null,
      "justify_content": null,
      "justify_items": null,
      "left": null,
      "margin": null,
      "max_height": null,
      "max_width": null,
      "min_height": null,
      "min_width": null,
      "object_fit": null,
      "object_position": null,
      "order": null,
      "overflow": null,
      "overflow_x": null,
      "overflow_y": null,
      "padding": null,
      "right": null,
      "top": null,
      "visibility": null,
      "width": null
     }
    }
   }
  }
 },
 "nbformat": 4,
 "nbformat_minor": 1
}
